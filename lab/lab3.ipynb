{
 "cells": [
  {
   "cell_type": "markdown",
   "metadata": {},
   "source": [
    "Lab 3\n",
    "Python Control Statement and Loops\n",
    "1. Write a python program to find the sum of n natural numbers\n",
    "2. Write a program to read an integer from user. For all non-negative integers i < n, print i2\n",
    ".\n",
    "3. Write a Python program that prints all the numbers from 0 to 6 except 3 and 6.\n",
    "Note: Use 'continue' statement.\n",
    "Expected Output : 0 1 2 4 5\n",
    "4. Write a Python program to get the Fibonacci series up to n terms.\n",
    "5. Write a Python program to find those numbers which are divisible by 7 and multiples of 5,\n",
    "between 1500 and 2700 (both included).\n",
    "6. Write a Python program to guess a number between 1 and 9.\n",
    "Note : User is prompted to enter a guess. If the user guesses wrong then the prompt appears again\n",
    "until the guess is correct, on successful guess, user will get a \"Well guessed!\" message, and the\n",
    "program will exit. Import random.\n",
    "7. Write a Python program to input n numbers from user; count the number of even and odd numbers\n",
    "from the input numbers and exit until the user input ‘0’.\n",
    "Input numbers = (7, 4, 3, 8, 5, 6, 1, 2, 9)\n",
    "Expected Output :\n",
    "Number of even numbers : 4\n",
    "Number of odd numbers : 5\n",
    "8. Write a Python program that accepts a string and calculates the number of digits and letters.\n",
    "Sample Data : Python 3.2\n",
    "Expected Output :\n",
    "Letters 6\n",
    "Digits 2\n",
    "Note: Use isdigit, isalpha and pass functions.\n",
    "9. Write a Python program to develop a rock paper scissors game, restart the game until the user\n",
    "press ‘n’ when the game ends.\n",
    "10. Write a Python program to create the multiplication table (from 1 to 10) of a number.\n",
    "Expected Output:\n",
    "Input a number: 6\n",
    "6 x 1 = 6\n",
    "6 x 2 = 12\n",
    "6 x 3 = 18\n",
    "6 x 4 = 24\n",
    "6 x 5 = 30\n",
    "6 x 6 = 36\n",
    "6 x 7 = 42\n",
    "6 x 8 = 48\n",
    "6 x 9 = 54\n",
    "6 x 10 = 60\n",
    "11. Write a Python program that accepts a word from the user and reverses it.\n",
    "12. Write a Python program to construct the following pattern, using a nested for loop.\n",
    "*\n",
    "* *\n",
    "* * *\n",
    "* * * *\n",
    "* * * * *\n",
    "* * * *\n",
    "* * *\n",
    "* *\n",
    "* "
   ]
  },
  {
   "cell_type": "markdown",
   "metadata": {},
   "source": [
    "1. Write a python program to find the sum of n natural numbers"
   ]
  },
  {
   "cell_type": "code",
   "execution_count": 1,
   "metadata": {},
   "outputs": [
    {
     "name": "stdout",
     "output_type": "stream",
     "text": [
      "Sum=  2278\n"
     ]
    }
   ],
   "source": [
    "n=int(input(\"Enter the n: \"))\n",
    "sum=0\n",
    "for i in range(n+1):\n",
    "    sum+=i\n",
    "print(\"Sum= \",sum)"
   ]
  },
  {
   "cell_type": "markdown",
   "metadata": {},
   "source": [
    "2. Write a program to read an integer from user. For all non-negative integers i < n, print i2."
   ]
  },
  {
   "cell_type": "code",
   "execution_count": 2,
   "metadata": {},
   "outputs": [
    {
     "name": "stdout",
     "output_type": "stream",
     "text": [
      "Sum=  496\n"
     ]
    }
   ],
   "source": [
    "n=int(input(\"Enter the n: \"))\n",
    "sum=0\n",
    "for i in range(n+1):\n",
    "    sum+=i\n",
    "print(\"Sum= \",sum)"
   ]
  }
 ],
 "metadata": {
  "kernelspec": {
   "display_name": "Python 3",
   "language": "python",
   "name": "python3"
  },
  "language_info": {
   "codemirror_mode": {
    "name": "ipython",
    "version": 3
   },
   "file_extension": ".py",
   "mimetype": "text/x-python",
   "name": "python",
   "nbconvert_exporter": "python",
   "pygments_lexer": "ipython3",
   "version": "3.12.4"
  }
 },
 "nbformat": 4,
 "nbformat_minor": 2
}
