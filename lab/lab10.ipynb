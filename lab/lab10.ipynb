{
 "cells": [
  {
   "cell_type": "markdown",
   "metadata": {},
   "source": [
    "<h3>Lab 10</h3> \n",
    "<h1>Machine Learning</h1>\n"
   ]
  },
  {
   "cell_type": "code",
   "execution_count": null,
   "metadata": {},
   "outputs": [],
   "source": [
    "# Lab 10 \n",
    "# Machine Learning \n",
    "# 1. Load a CSV file into a Pandas DataFrame. \n",
    "# import pandas as pd \n",
    "# file_path = 'test.csv' \n",
    "# df = pd.read_csv(file_path) \n",
    "# print(df) \n",
    "# 2. Create a DataFrame from a NumPy array with custom column names. \n",
    "# import pandas as pd \n",
    "# import numpy as np \n",
    "# numpy_array = np.array([[1, 2, 3], [4, 5, 6], [7, 8, 9]]) \n",
    "# column_names = ['Column1', 'Column2', 'Column3'] \n",
    "# df = pd.DataFrame(data=numpy_array, columns=column_names) \n",
    "# print(df) \n",
    "# 3. Select rows from a DataFrame based on multiple conditions. \n",
    "# import pandas as pd \n",
    "# data = {'Name': ['Serij', 'Ram', 'Rabin', 'Santosh', 'Milan'], \n",
    "# 'Age': [26, 32, 25, 31, 28], \n",
    "# 'Salary': [50000, 60000, 45000, 70000, 55000]} \n",
    "# df = pd.DataFrame(data) \n",
    "# selected_rows = df[(df['Age'] > 25) & (df['Salary'] > 50000)] \n",
    "# print(selected_rows) \n",
    "# 4. Select the first and last 7 rows of a Pandas DataFrame. \n",
    "# import pandas as pd \n",
    "# data = {'Name': ['Serij', 'Ram', 'Rabin', 'Santosh', 'Milan', 'Alina', 'Bijay', 'Chandra', 'Dinesh', \n",
    "# 'Suman'], \n",
    "# 'Age': [26, 32, 25, 31, 28, 22, 35, 30, 40, 28], \n",
    "# 'Salary': [50000, 60000, 45000, 70000, 55000, 60000, 70000, 55000, 75000, 65000]} \n",
    "# df = pd.DataFrame(data) \n",
    "# selected_rows = pd.concat([df.head(7)]) \n",
    "# print(\"First 7 rows:\") \n",
    "# print(selected_rows) \n",
    "# selected_rows = pd.concat([df.tail(7)]) \n",
    "# print(\"\\nLast 7 rows:\") \n",
    "# print(selected_rows) \n",
    "# 5. Merge two Pandas DataFrames based on a common column. \n",
    "# import pandas as pd \n",
    "# df1 = pd.DataFrame({'ID': [1, 2, 3], 'Name': ['Rabin', 'Santosh', 'Milan']}) \n",
    "# df2 = pd.DataFrame({'ID': [2, 3, 4], 'Age': [25, 30, 22]}) \n",
    "# merged_df = pd.merge(df1, df2, on='ID') \n",
    "# print(merged_df) \n",
    "# 6. Extract rows from a Pandas DataFrame where a specific column's values are in a given \n",
    "# NumPy array. \n",
    "# import pandas as pd \n",
    "# import numpy as np \n",
    "# data = {'Name': ['Teodosija', 'Sutton', 'Taneli', 'David', 'Emily'], \n",
    "# 'Age': [25, 30, 22, 35, 28], \n",
    "# 'Salary': [50000, 60000, 45000, 70000, 55000]} \n",
    "# df = pd.DataFrame(data) \n",
    "# selected_age_values = np.array([25, 35]) \n",
    "# selected_rows = df[df['Age'].isin(selected_age_values)] \n",
    "# print(selected_rows) \n",
    "# 7. Perform element-wise addition of a NumPy array and a Pandas DataFrame column. \n",
    "# import pandas as pd \n",
    "# import numpy as np \n",
    "# data = {'Name': ['Serij', 'Ram', 'Rabin', 'Santosh', 'Milan'], \n",
    "# 'Age': [25, 30, 22, 35, 28], \n",
    "# 'Salary': [50000, 60000, 45000, 70000, 55000]} \n",
    "# df = pd.DataFrame(data) \n",
    "# numpy_array = np.array([1000, 2000, 3000, 4000, 5000]) \n",
    "# df['Updated_Salary'] = np.add(df['Salary'], numpy_array) \n",
    "# print(df) \n",
    "# 8. Calculate the cumulative sum of a NumPy array and store the results in a new Pandas \n",
    "# DataFrame column. \n",
    "# import pandas as pd \n",
    "# import numpy as np \n",
    "# data = {'Values': [100, 200, 300, 400, 500]} \n",
    "# df = pd.DataFrame(data) \n",
    "# numpy_array = np.array(df['Values']) \n",
    "# df['Cumulative_Sum'] = np.cumsum(numpy_array) \n",
    "# print(df) \n",
    "# 9. Create a histogram of a numerical column using NumPy and Matplotlib. \n",
    "# import numpy as np \n",
    "# import matplotlib.pyplot as plt \n",
    "# data = np.random.randn(1000)  # Generating random data for demonstration \n",
    "# hist, edges = np.histogram(data, bins=10) \n",
    "# plt.hist(data, bins=edges, edgecolor='black', alpha=0.7) \n",
    "# plt.title('Histogram of a Numerical Column') \n",
    "# plt.xlabel('Values') \n",
    "# plt.ylabel('Frequency') \n",
    "# plt.show() \n",
    "# 10.  Perform matrix multiplication using NumPy. \n",
    "# import numpy as np \n",
    "# matrix1 = np.array([[1, 2, 3], [4, 5, 6]]) \n",
    "# matrix2 = np.array([[7, 8], [9, -10], [11, 12]]) \n",
    "# result_matrix = np.dot(matrix1, matrix2) \n",
    "# print(result_matrix) \n",
    "# 11. Write a Python program that creates a TensorFlow constant with the values [100, 200, 300]. \n",
    "# Print its shape and data type. \n",
    "# import tensorflow as tf \n",
    "# t = tf.constant([100, 200, 300]) \n",
    "# print(\"Tensor Shape:\", t.shape) \n",
    "# print(\"Data Type:\", t.dtype) \n",
    "# 12. Write a Python program that creates a TensorFlow tensor with a string data type and print \n",
    "# its value. \n",
    "# import tensorflow as tf \n",
    "# string_tensor = tf.constant(\"TensorFlow Exercises!\", dtype=tf.string) \n",
    "# print(\"String Tensor Value:\", string_tensor.numpy().decode()) "
   ]
  },
  {
   "cell_type": "code",
   "execution_count": 26,
   "metadata": {},
   "outputs": [
    {
     "name": "stdout",
     "output_type": "stream",
     "text": [
      "Empty DataFrame\n",
      "Columns: [hello this is csv file]\n",
      "Index: []\n"
     ]
    }
   ],
   "source": [
    "# 1. Load a CSV file into a Pandas DataFrame. \n",
    "import pandas as pd \n",
    "file_path = 'test.csv' \n",
    "df = pd.read_csv(file_path) \n",
    "print(df) "
   ]
  },
  {
   "cell_type": "code",
   "execution_count": 16,
   "metadata": {},
   "outputs": [
    {
     "name": "stdout",
     "output_type": "stream",
     "text": [
      "   Column1  Column2  Column3\n",
      "0        1        2        3\n",
      "1        4        5        6\n",
      "2        7        8        9\n"
     ]
    }
   ],
   "source": [
    "# 2. Create a DataFrame from a NumPy array with custom column names. \n",
    "import pandas as pd \n",
    "import numpy as np \n",
    "numpy_array = np.array([[1, 2, 3], [4, 5, 6], [7, 8, 9]]) \n",
    "column_names = ['Column1', 'Column2', 'Column3'] \n",
    "df = pd.DataFrame(data=numpy_array, columns=column_names) \n",
    "print(df) "
   ]
  },
  {
   "cell_type": "code",
   "execution_count": 18,
   "metadata": {},
   "outputs": [
    {
     "name": "stdout",
     "output_type": "stream",
     "text": [
      "      Name  Age  Salary\n",
      "1      Ram   32   60000\n",
      "3  Santosh   31   70000\n",
      "4    Milan   28   55000\n"
     ]
    }
   ],
   "source": [
    "# 3. Select rows from a DataFrame based on multiple conditions. \n",
    "import pandas as pd \n",
    "data = {'Name': ['Serij', 'Ram', 'Rabin', 'Santosh', 'Milan'], \n",
    "'Age': [26, 32, 25, 31, 28], \n",
    "'Salary': [50000, 60000, 45000, 70000, 55000]} \n",
    "df = pd.DataFrame(data) \n",
    "selected_rows = df[(df['Age'] > 25) & (df['Salary'] > 50000)] \n",
    "print(selected_rows) "
   ]
  },
  {
   "cell_type": "code",
   "execution_count": 27,
   "metadata": {},
   "outputs": [
    {
     "name": "stdout",
     "output_type": "stream",
     "text": [
      "First 7 rows:\n",
      "      Name  Age  Salary\n",
      "0    Serij   26   50000\n",
      "1      Ram   32   60000\n",
      "2    Rabin   25   45000\n",
      "3  Santosh   31   70000\n",
      "4    Milan   28   55000\n",
      "5    Alina   22   60000\n",
      "6    Bijay   35   70000\n",
      "\n",
      "Last 7 rows:\n",
      "      Name  Age  Salary\n",
      "3  Santosh   31   70000\n",
      "4    Milan   28   55000\n",
      "5    Alina   22   60000\n",
      "6    Bijay   35   70000\n",
      "7  Chandra   30   55000\n",
      "8   Dinesh   40   75000\n",
      "9    Suman   28   65000\n"
     ]
    }
   ],
   "source": [
    "# 4. Select the first and last 7 rows of a Pandas DataFrame. \n",
    "import pandas as pd \n",
    "data = {'Name': ['Serij', 'Ram', 'Rabin', 'Santosh', 'Milan', 'Alina', 'Bijay', 'Chandra', 'Dinesh', \n",
    "'Suman'], \n",
    "'Age': [26, 32, 25, 31, 28, 22, 35, 30, 40, 28], \n",
    "'Salary': [50000, 60000, 45000, 70000, 55000, 60000, 70000, 55000, 75000, 65000]} \n",
    "df = pd.DataFrame(data) \n",
    "selected_rows = pd.concat([df.head(7)]) \n",
    "print(\"First 7 rows:\") \n",
    "print(selected_rows) \n",
    "selected_rows = pd.concat([df.tail(7)]) \n",
    "print(\"\\nLast 7 rows:\") \n",
    "print(selected_rows) "
   ]
  },
  {
   "cell_type": "code",
   "execution_count": 28,
   "metadata": {},
   "outputs": [
    {
     "name": "stdout",
     "output_type": "stream",
     "text": [
      "   ID     Name  Age\n",
      "0   2  Santosh   25\n",
      "1   3    Milan   30\n"
     ]
    }
   ],
   "source": [
    "# 5. Merge two Pandas DataFrames based on a common column. \n",
    "import pandas as pd \n",
    "df1 = pd.DataFrame({'ID': [1, 2, 3], 'Name': ['Rabin', 'Santosh', 'Milan']}) \n",
    "df2 = pd.DataFrame({'ID': [2, 3, 4], 'Age': [25, 30, 22]}) \n",
    "merged_df = pd.merge(df1, df2, on='ID') \n",
    "print(merged_df)"
   ]
  },
  {
   "cell_type": "code",
   "execution_count": 29,
   "metadata": {},
   "outputs": [
    {
     "name": "stdout",
     "output_type": "stream",
     "text": [
      "        Name  Age  Salary\n",
      "0  Teodosija   25   50000\n",
      "3      David   35   70000\n"
     ]
    }
   ],
   "source": [
    "# 6. Extract rows from a Pandas DataFrame where a specific column's values are in a given NumPy array. \n",
    "import pandas as pd \n",
    "import numpy as np \n",
    "data = {'Name': ['Teodosija', 'Sutton', 'Taneli', 'David', 'Emily'], \n",
    "'Age': [25, 30, 22, 35, 28], \n",
    "'Salary': [50000, 60000, 45000, 70000, 55000]} \n",
    "df = pd.DataFrame(data) \n",
    "selected_age_values = np.array([25, 35]) \n",
    "selected_rows = df[df['Age'].isin(selected_age_values)] \n",
    "print(selected_rows)"
   ]
  },
  {
   "cell_type": "code",
   "execution_count": 30,
   "metadata": {},
   "outputs": [
    {
     "name": "stdout",
     "output_type": "stream",
     "text": [
      "      Name  Age  Salary  Updated_Salary\n",
      "0    Serij   25   50000           51000\n",
      "1      Ram   30   60000           62000\n",
      "2    Rabin   22   45000           48000\n",
      "3  Santosh   35   70000           74000\n",
      "4    Milan   28   55000           60000\n"
     ]
    }
   ],
   "source": [
    "# 7. Perform element-wise addition of a NumPy array and a Pandas DataFrame column. \n",
    "import pandas as pd \n",
    "import numpy as np \n",
    "data = {'Name': ['Serij', 'Ram', 'Rabin', 'Santosh', 'Milan'], \n",
    "'Age': [25, 30, 22, 35, 28], \n",
    "'Salary': [50000, 60000, 45000, 70000, 55000]} \n",
    "df = pd.DataFrame(data) \n",
    "numpy_array = np.array([1000, 2000, 3000, 4000, 5000]) \n",
    "df['Updated_Salary'] = np.add(df['Salary'], numpy_array) \n",
    "print(df) "
   ]
  },
  {
   "cell_type": "code",
   "execution_count": 31,
   "metadata": {},
   "outputs": [
    {
     "name": "stdout",
     "output_type": "stream",
     "text": [
      "   Values  Cumulative_Sum\n",
      "0     100             100\n",
      "1     200             300\n",
      "2     300             600\n",
      "3     400            1000\n",
      "4     500            1500\n"
     ]
    }
   ],
   "source": [
    "# 8. Calculate the cumulative sum of a NumPy array and store the results in a new Pandas \n",
    "# DataFrame column. \n",
    "import pandas as pd \n",
    "import numpy as np \n",
    "data = {'Values': [100, 200, 300, 400, 500]} \n",
    "df = pd.DataFrame(data) \n",
    "numpy_array = np.array(df['Values']) \n",
    "df['Cumulative_Sum'] = np.cumsum(numpy_array) \n",
    "print(df) "
   ]
  },
  {
   "cell_type": "code",
   "execution_count": 35,
   "metadata": {},
   "outputs": [
    {
     "data": {
      "image/png": "[encoded data removed]",
      "text/plain": [
       "<Figure size 640x480 with 1 Axes>"
      ]
     },
     "metadata": {},
     "output_type": "display_data"
    }
   ],
   "source": [
    "# 9. Create a histogram of a numerical column using NumPy and Matplotlib. \n",
    "import numpy as np \n",
    "import matplotlib.pyplot as plt \n",
    "data = np.random.randn(1000)  # Generating random data for demonstration \n",
    "hist, edges = np.histogram(data, bins=10) \n",
    "plt.hist(data, bins=edges, edgecolor='black', alpha=0.9) \n",
    "plt.title('Histogram of a Numerical Column') \n",
    "plt.xlabel('Values') \n",
    "plt.ylabel('Frequency') \n",
    "plt.show() "
   ]
  },
  {
   "cell_type": "code",
   "execution_count": 41,
   "metadata": {},
   "outputs": [
    {
     "name": "stdout",
     "output_type": "stream",
     "text": [
      "[[ 58  24]\n",
      " [139  54]]\n"
     ]
    }
   ],
   "source": [
    "# 10.  Perform matrix multiplication using NumPy. \n",
    "import numpy as np \n",
    "matrix1 = np.array([[1, 2, 3], [4, 5, 6]]) \n",
    "matrix2 = np.array([[7, 8], [9, -10], [11, 12]]) \n",
    "result_matrix = np.dot(matrix1, matrix2) \n",
    "print(result_matrix)"
   ]
  },
  {
   "cell_type": "code",
   "execution_count": 5,
   "metadata": {},
   "outputs": [
    {
     "name": "stdout",
     "output_type": "stream",
     "text": [
      "Tensor Shape: (3,)\n",
      "Data Type: <dtype: 'int32'>\n"
     ]
    }
   ],
   "source": [
    "# 11. Write a Python program that creates a TensorFlow constant with the values [100, 200, 300]. \n",
    "# Print its shape and data type. \n",
    "import tensorflow as tf \n",
    "t = tf.constant([100, 200, 300]) \n",
    "print(\"Tensor Shape:\", t.shape) \n",
    "print(\"Data Type:\", t.dtype) "
   ]
  },
  {
   "cell_type": "code",
   "execution_count": 4,
   "metadata": {},
   "outputs": [
    {
     "name": "stdout",
     "output_type": "stream",
     "text": [
      "String Tensor Value: TensorFlow Exercises!\n"
     ]
    }
   ],
   "source": [
    "# 12. Write a Python program that creates a TensorFlow tensor with a string data type and print \n",
    "# its value. \n",
    "import tensorflow as tf \n",
    "string_tensor = tf.constant(\"TensorFlow Exercises!\", dtype=tf.string) \n",
    "print(\"String Tensor Value:\", string_tensor.numpy().decode())"
   ]
  }
 ],
 "metadata": {
  "kernelspec": {
   "display_name": "Python 3",
   "language": "python",
   "name": "python3"
  },
  "language_info": {
   "codemirror_mode": {
    "name": "ipython",
    "version": 3
   },
   "file_extension": ".py",
   "mimetype": "text/x-python",
   "name": "python",
   "nbconvert_exporter": "python",
   "pygments_lexer": "ipython3",
   "version": "3.12.4"
  }
 },
 "nbformat": 4,
 "nbformat_minor": 2
}
