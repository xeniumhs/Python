{
 "cells": [
  {
   "cell_type": "markdown",
   "metadata": {},
   "source": [
    "Lab 5 \n",
    "Python Tuples and Sets \n",
    "Tuples \n",
    "1. Write a Python program to convert a tuple to a string. \n",
    "2. Write a Python program to get the 4th element from the last element of a tuple. \n",
    "3. Write a Python program to find repeated items in a tuple. \n",
    "4. Write a Python program to replace the last value of tuples in a list. \n",
    "Sample list: [(10, 20, 40), (40, 50, 60), (70, 80, 90)] \n",
    "Expected Output: [(10, 20, 100), (40, 50, 100), (70, 80, 100)] \n",
    "5. Write a Python program to sort a tuple by its float element. \n",
    "Sample data: [('item1', '12.20'), ('item2', '15.10'), ('item3', '24.5')] \n",
    "Expected Output: [('item3', '24.5'), ('item2', '15.10'), ('item1', '12.20')] \n",
    "6. Write a Python program to convert a given string list to a tuple. \n",
    "Original string: python 3.0 \n",
    "<class 'str'> \n",
    "Convert the said string to a tuple: \n",
    "('p', 'y', 't', 'h', 'o', 'n', '3', '.', '0') \n",
    "<class 'tuple'> \n",
    "7. Write a Python program to calculate the product, multiplying all the numbers in a given tuple. \n",
    "Original Tuple: \n",
    "(4, 3, 2, 2, -1, 18) \n",
    "Product - multiplying all the numbers of the said tuple: -864 \n",
    "Original Tuple: \n",
    "(2, 4, 8, 8, 3, 2, 9) \n",
    "Product - multiplying all the numbers of the said tuple: 27648 \n",
    "8. Write a Python program to calculate the average value of the numbers in a given tuple of \n",
    "tuples. \n",
    "Original Tuple: \n",
    "((10, 10, 10, 12), (30, 45, 56, 45), (81, 80, 39, 32), (1, 2, 3, 4)) \n",
    "Average value of the numbers of the said tuple of tuples: \n",
    "[30.5, 34.25, 27.0, 23.25] \n",
    "Original Tuple: \n",
    "((1, 1, -5), (30, -15, 56), (81, -60, -39), (-10, 2, 3)) \n",
    "Average value of the numbers of the said tuple of tuples: \n",
    "[25.5, -18.0, 3.75] \n",
    "9. Write a Python program to convert a given tuple of positive integers into an integer. \n",
    "Original tuple: \n",
    "(1, 2, 3) \n",
    "Convert the said tuple of positive integers into an integer: \n",
    "123 \n",
    "Original tuple: \n",
    "(10, 20, 40, 5, 70) \n",
    "Convert the said tuple of positive integers into an integer: \n",
    "102040570 \n",
    "10.Write a Python program to compute the element-wise sum of given tuples. \n",
    "Original lists: \n",
    "(1, 2, 3, 4) \n",
    "(3, 5, 2, 1) \n",
    "(2, 2, 3, 1) \n",
    "Element-wise sum of the said tuples: \n",
    "(6, 9, 8, 6) \n",
    "11.Write a Python program to compute the sum of all the elements of each tuple stored inside a \n",
    "list of tuples. \n",
    "Original list of tuples: \n",
    "[(1, 2), (2, 3), (3, 4)] \n",
    "Sum of all the elements of each tuple stored inside the said list of tuples: \n",
    "[3, 5, 7] \n",
    "Original list of tuples: \n",
    "[(1, 2, 6), (2, 3, -6), (3, 4), (2, 2, 2, 2)] \n",
    "Sum of all the elements of each tuple stored inside the said list of tuples: \n",
    "[9, -1, 7, 8] \n",
    "Sets \n",
    "12.Write a Python program to create an intersection, a union, set difference and a symmetric \n",
    "difference of sets. Also find the length, maximum and minimum values in a set. \n",
    "13.Write a Python program that finds all pairs of elements in a list whose sum is equal to a given \n",
    "value. \n",
    "14.Write a Python program to find the longest common prefix of all strings. Use the Python set. \n",
    "15.Write a Python program to find the two numbers whose product is maximum among all the \n",
    "pairs in a given list of numbers. Use the Python set. "
   ]
  },
  {
   "cell_type": "code",
   "execution_count": 1,
   "metadata": {},
   "outputs": [
    {
     "name": "stdout",
     "output_type": "stream",
     "text": [
      "(1, 2, 3)\n",
      "<class 'str'>\n"
     ]
    }
   ],
   "source": [
    "#1\n",
    "myTuple=(1,2,3)\n",
    "x=str(myTuple)\n",
    "print(x)\n",
    "print(type(x))"
   ]
  },
  {
   "cell_type": "code",
   "execution_count": 8,
   "metadata": {},
   "outputs": [
    {
     "name": "stdout",
     "output_type": "stream",
     "text": [
      "7\n"
     ]
    }
   ],
   "source": [
    "# 2. Write a Python program to get the 4th element from the last element of a tuple. \n",
    "myTuple=(1,2,3,6,5,7,5,8,9)\n",
    "x=myTuple[-4]\n",
    "print(x)"
   ]
  },
  {
   "cell_type": "code",
   "execution_count": 12,
   "metadata": {},
   "outputs": [
    {
     "name": "stdout",
     "output_type": "stream",
     "text": [
      "2\n",
      "3\n",
      "4\n",
      "5\n",
      "3\n",
      "2\n",
      "1\n",
      "6\n"
     ]
    }
   ],
   "source": [
    "# 3. Write a Python program to find repeated items in a tuple. \n",
    "\n",
    "myTuple=(2,3,4,5,3,2,1,6)\n",
    "b=0\n",
    "\n",
    "for i in myTuple:\n",
    "    a=myTuple[b]    \n",
    "    if a==i:\n",
    "        print(i)\n",
    "    else:\n",
    "        break\n",
    "    b+=1"
   ]
  },
  {
   "cell_type": "code",
   "execution_count": 21,
   "metadata": {},
   "outputs": [
    {
     "name": "stdout",
     "output_type": "stream",
     "text": [
      "[(10, 20, 100), (40, 50, 100), (70, 80, 100)]\n"
     ]
    }
   ],
   "source": [
    "# 4. Write a Python program to replace the last value of tuples in a list. \n",
    "# Sample list: [(10, 20, 40), (40, 50, 60), (70, 80, 90)] \n",
    "# Expected Output: [(10, 20, 100), (40, 50, 100), (70, 80, 100)] \n",
    "\n",
    "# myTuple1=(10,20,40)\n",
    "# myTuple2=(40,50,60)\n",
    "# myTuple3=(70,80,90)\n",
    "\n",
    "# myList=[]\n",
    "# myList=list[myTuple1,myTuple2,myTuple3]\n",
    "# print(myList)\n",
    "\n",
    "myList=[(10, 20, 40), (40, 50, 60), (70, 80, 90)]\n",
    "\n",
    "for i  in myList:\n",
    "    x=myList.index(i)\n",
    "    i=list(i)\n",
    "    i[2]=100\n",
    "    i=tuple(i)\n",
    "    myList[x]=i\n",
    "print(myList)\n",
    "# print(myList[0][2])\n",
    "# print(type(myList[0]))\n",
    "\n"
   ]
  },
  {
   "cell_type": "code",
   "execution_count": 22,
   "metadata": {},
   "outputs": [
    {
     "name": "stdout",
     "output_type": "stream",
     "text": [
      "[('item3', '24.5'), ('item2', '15.10'), ('item1', '12.20')]\n"
     ]
    }
   ],
   "source": [
    "# 5. Write a Python program to sort a tuple by its float element. \n",
    "# Sample data: [('item1', '12.20'), ('item2', '15.10'), ('item3', '24.5')] \n",
    "# Expected Output: [('item3', '24.5'), ('item2', '15.10'), ('item1', '12.20')]\n",
    "\n",
    "# Sample data\n",
    "data = [('item1', '12.20'), ('item2', '15.10'), ('item3', '24.5')]\n",
    "\n",
    "# Sorting the tuple by the float value\n",
    "sorted_data = sorted(data, key=lambda x: float(x[1]), reverse=True)\n",
    "\n",
    "# Expected Output\n",
    "print(sorted_data)\n"
   ]
  },
  {
   "cell_type": "code",
   "execution_count": 25,
   "metadata": {},
   "outputs": [
    {
     "name": "stdout",
     "output_type": "stream",
     "text": [
      "python 3.0\n",
      "<class 'str'>\n",
      "('p', 'y', 't', 'h', 'o', 'n', ' ', '3', '.', '0')\n",
      "<class 'tuple'>\n"
     ]
    }
   ],
   "source": [
    "# 6. Write a Python program to convert a given string list to a tuple. \n",
    "# Original string: python 3.0 \n",
    "# <class 'str'> \n",
    "# Convert the said string to a tuple: \n",
    "# ('p', 'y', 't', 'h', 'o', 'n', '3', '.', '0') \n",
    "# <class 'tuple'> \n",
    "\n",
    "str1=\"python 3.0\"\n",
    "print(str1)\n",
    "print(type(str1))\n",
    "\n",
    "x=tuple(str1)\n",
    "print(x)\n",
    "print(type(x))"
   ]
  },
  {
   "cell_type": "code",
   "execution_count": 28,
   "metadata": {},
   "outputs": [
    {
     "name": "stdout",
     "output_type": "stream",
     "text": [
      "-864\n",
      "27648\n"
     ]
    }
   ],
   "source": [
    "# 7. Write a Python program to calculate the product, multiplying all the numbers in a given tuple. \n",
    "# Original Tuple: \n",
    "# (4, 3, 2, 2, -1, 18) \n",
    "# Product - multiplying all the numbers of the said tuple: -864 \n",
    "# Original Tuple: \n",
    "# (2, 4, 8, 8, 3, 2, 9) \n",
    "# Product - multiplying all the numbers of the said tuple: 27648 \n",
    "\n",
    "myTuple1=(4, 3, 2, 2, -1, 18) \n",
    "mul=1\n",
    "for i in myTuple1:\n",
    "    mul*=i\n",
    "print(mul)\n",
    "\n",
    "myTuple2=(2, 4, 8, 8, 3, 2, 9) \n",
    "mul=1\n",
    "for i in myTuple2:\n",
    "    mul*=i\n",
    "print(mul) "
   ]
  },
  {
   "cell_type": "code",
   "execution_count": 40,
   "metadata": {},
   "outputs": [
    {
     "name": "stdout",
     "output_type": "stream",
     "text": [
      "[10.5, 44.0, 58.0, 2.5]\n"
     ]
    }
   ],
   "source": [
    "# 8. Write a Python program to calculate the average value of the numbers in a given tuple of \n",
    "# tuples. \n",
    "# Original Tuple: \n",
    "# ((10, 10, 10, 12), (30, 45, 56, 45), (81, 80, 39, 32), (1, 2, 3, 4)) \n",
    "# Average value of the numbers of the said tuple of tuples: \n",
    "# [30.5, 34.25, 27.0, 23.25] \n",
    "# Original Tuple: \n",
    "# ((1, 1, -5), (30, -15, 56), (81, -60, -39), (-10, 2, 3)) \n",
    "# Average value of the numbers of the said tuple of tuples: \n",
    "# [25.5, -18.0, 3.75] \n",
    "\n",
    "myTuple=((10, 10, 10, 12), (30, 45, 56, 45), (81, 80, 39, 32), (1, 2, 3, 4))\n",
    "\n",
    "myList=[]\n",
    "for i in myTuple:\n",
    "    # x=myTuple[i]\n",
    "    sum=0\n",
    "    x=list(i)\n",
    "    for j in x:\n",
    "        sum+=j\n",
    "        n=len(x)\n",
    "        mean=sum/n\n",
    "    myList.append(mean)\n",
    "print(myList)\n"
   ]
  },
  {
   "cell_type": "code",
   "execution_count": 42,
   "metadata": {},
   "outputs": [],
   "source": [
    "# 9. Write a Python program to convert a given tuple of positive integers into an integer. \n",
    "# Original tuple: \n",
    "# (1, 2, 3) \n",
    "# Convert the said tuple of positive integers into an integer: \n",
    "# 123 \n",
    "# Original tuple: \n",
    "# (10, 20, 40, 5, 70) \n",
    "# Convert the said tuple of positive integers into an integer: \n",
    "# 102040570 \n",
    "\n",
    "myTuple=(1,2,3)\n",
    "\n"
   ]
  },
  {
   "cell_type": "code",
   "execution_count": 46,
   "metadata": {},
   "outputs": [
    {
     "name": "stdout",
     "output_type": "stream",
     "text": [
      "[3, 5, 7]\n"
     ]
    }
   ],
   "source": [
    "# 11.Write a Python program to compute the sum of all the elements of each tuple stored inside a \n",
    "# list of tuples. \n",
    "# Original list of tuples: \n",
    "# [(1, 2), (2, 3), (3, 4)] \n",
    "# Sum of all the elements of each tuple stored inside the said list of tuples: \n",
    "# [3, 5, 7] \n",
    "# Original list of tuples: \n",
    "# [(1, 2, 6), (2, 3, -6), (3, 4), (2, 2, 2, 2)] \n",
    "# Sum of all the elements of each tuple stored inside the said list of tuples: \n",
    "# [9, -1, 7, 8] \n",
    "\n",
    "myList=[(1, 2), (2, 3), (3, 4)] \n",
    "\n",
    "myList1=[]\n",
    "for i in myList:\n",
    "    # x=myTuple[i]\n",
    "    sum=0\n",
    "    \n",
    "    for j in i:\n",
    "        sum+=j\n",
    "    myList1.append(sum)\n",
    "print(myList1)\n",
    "    \n",
    "    \n",
    "\n"
   ]
  },
  {
   "cell_type": "markdown",
   "metadata": {},
   "source": [
    "SET"
   ]
  },
  {
   "cell_type": "code",
   "execution_count": 53,
   "metadata": {},
   "outputs": [
    {
     "name": "stdout",
     "output_type": "stream",
     "text": [
      "{1, 2, 3, 4, 5, 6, 8}\n",
      "{2, 4}\n",
      "{1, 3, 5}\n",
      "{1, 3, 5, 6, 8}\n",
      "5 4\n",
      "8\n",
      "1\n"
     ]
    }
   ],
   "source": [
    "# 12.Write a Python program to create an intersection, a union, set difference and a symmetric \n",
    "# difference of sets. Also find the length, maximum and minimum values in a set. \n",
    "\n",
    "set1={1,2,3,4,5}\n",
    "set2={2,4,6,8}\n",
    "\n",
    "set3=set1.union(set2)\n",
    "print(set3)\n",
    "\n",
    "set3=set1.intersection(set2)\n",
    "print(set3)\n",
    "\n",
    "set3=set1.difference(set2)\n",
    "print(set3)\n",
    "\n",
    "set3=set1.symmetric_difference(set2)\n",
    "print(set3)\n",
    "\n",
    "print(len(set1),len(set2))\n",
    "print(max(set3))\n",
    "print(min(set3))"
   ]
  },
  {
   "cell_type": "code",
   "execution_count": 57,
   "metadata": {},
   "outputs": [
    {
     "name": "stdout",
     "output_type": "stream",
     "text": [
      "Longest Common Prefix: fl\n"
     ]
    }
   ],
   "source": [
    "# 14.Write a Python program to find the longest common prefix of all strings. Use the Python set. \n",
    "def longest_common_prefix(strs):\n",
    "    if not strs:\n",
    "        return \"\"\n",
    "\n",
    "    # Start by taking the first string as the initial prefix\n",
    "    prefix = strs[0]\n",
    "\n",
    "    # Iterate through all the strings\n",
    "    for s in strs[1:]:\n",
    "        temp_prefix_set = set()\n",
    "        \n",
    "        # Compare the current prefix with the string character by character\n",
    "        for i in range(min(len(prefix), len(s))):\n",
    "            if prefix[i] == s[i]:\n",
    "                temp_prefix_set.add(prefix[:i+1])  # Add matching part to the set\n",
    "            else:\n",
    "                break\n",
    "\n",
    "        # Update the prefix to the longest common part in the set\n",
    "        if temp_prefix_set:\n",
    "            prefix = max(temp_prefix_set, key=len)\n",
    "        else:\n",
    "            return \"\"\n",
    "\n",
    "    return prefix\n",
    "\n",
    "\n",
    "# Test the function\n",
    "strs = [\"flower\", \"flow\", \"flight\"]\n",
    "print(\"Longest Common Prefix:\", longest_common_prefix(strs))\n"
   ]
  }
 ],
 "metadata": {
  "kernelspec": {
   "display_name": "Python 3",
   "language": "python",
   "name": "python3"
  },
  "language_info": {
   "codemirror_mode": {
    "name": "ipython",
    "version": 3
   },
   "file_extension": ".py",
   "mimetype": "text/x-python",
   "name": "python",
   "nbconvert_exporter": "python",
   "pygments_lexer": "ipython3",
   "version": "3.12.4"
  }
 },
 "nbformat": 4,
 "nbformat_minor": 2
}
