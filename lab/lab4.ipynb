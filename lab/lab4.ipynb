{
 "cells": [
  {
   "cell_type": "markdown",
   "metadata": {},
   "source": [
    "Lab 4 \n",
    "Python Lists \n",
    "1. Write a Python Program to print all the items in a list. \n",
    "2. Use range function to print all the even numbers from 1 to 10. \n",
    "3. Write a Python Program to get the largest and smallest number in a list without using built\u0002in functions. \n",
    "4. Write a Python program to find the second smallest and second largest numbers in a list. \n",
    "5. Write a Python program to sum all the items in a list. \n",
    "6. Write a Python program to multiply all the items in a list. \n",
    "7. Write a Python program to check if a list is empty or not. \n",
    "8. Write a Python program to print the numbers of a specified list after removing even \n",
    "numbers from it. \n",
    "9. Write a Python Program to print a specified list after removing the 0th, 4th and 5th element. \n",
    "Sample list: [‘Red’, ‘Green’, ‘White’, ‘Black’, ‘Pink’, ‘Yellow’] \n",
    "Expected Output: [‘Green’, ‘White’, ‘Black’] \n",
    "10.Write a Python Program to check if each number is prime in a given list of numbers. Print \n",
    "the prime numbers if any, otherwise print “no prime numbers”. \n",
    "11.Write a Python program to remove duplicates from a list. \n",
    "12.Write a Python Program to merge two lists and removes all duplicates from the combined \n",
    "list. \n",
    "13.Write a Python Program to print a list in a reverse order. \n",
    "14.Write a Python program to sort a given list of strings (numbers) numerically. \n",
    "Original list: \n",
    "['4', '12', '45', '7', '0', '100', '200', '-12', '-500'] \n",
    "Sort the said list of strings(numbers) numerically: \n",
    "[-500, -12, 0, 4, 7, 12, 45, 100, 200] \n",
    "15.Apply various functions like append, remove, pop, insert, sort, max, min in a list. \n",
    "16.Write a python program to copy a content of one list to another. \n",
    "17.Write a Python Program to sort a list of lists by a given index of the inner list. \n",
    "18.Write a Python program to generate and print a list of the first and last 5 elements where \n",
    "the values are square numbers between 1 and 15 (both included). \n",
    "19.Write a Python program to insert a given string at the beginning of all items in a list. \n",
    "Sample list : [1,2,3,4], string : emp \n",
    "Expected output : ['emp1', 'emp2', 'emp3', 'emp4'] \n",
    "20.Write a Python program to insert n values in a list and find those values in a list that are \n",
    "greater than a specified number."
   ]
  },
  {
   "cell_type": "code",
   "execution_count": 2,
   "metadata": {},
   "outputs": [
    {
     "name": "stdout",
     "output_type": "stream",
     "text": [
      "list ['a', 'b', 'c', 'd', 12, True]\n",
      "a\n",
      "b\n",
      "c\n",
      "d\n",
      "12\n",
      "True\n"
     ]
    }
   ],
   "source": [
    "# 1. Write a Python Program to print all the items in a list.\n",
    "\n",
    "list=['a','b','c','d',12,True]\n",
    "print(\"list\",list)\n",
    "\n",
    "for i in list:\n",
    "    print(i)"
   ]
  },
  {
   "cell_type": "code",
   "execution_count": 1,
   "metadata": {},
   "outputs": [
    {
     "name": "stdout",
     "output_type": "stream",
     "text": [
      "2 4 6 8 10 "
     ]
    }
   ],
   "source": [
    "# 2. Use range function to print all the even numbers from 1 to 10. \n",
    "\n",
    "for i in range(1,11):\n",
    "    if i%2==0:\n",
    "     print(i,end=\" \")"
   ]
  },
  {
   "cell_type": "code",
   "execution_count": null,
   "metadata": {},
   "outputs": [],
   "source": [
    "# 3. Write a Python Program to get the largest and smallest number in a list without using built-in functions.\n",
    "\n",
    "myList=[2,3,4,1,9,7,10]\n"
   ]
  },
  {
   "cell_type": "code",
   "execution_count": null,
   "metadata": {},
   "outputs": [],
   "source": [
    "# 4. Write a Python program to find the second smallest and second largest numbers in a list. "
   ]
  },
  {
   "cell_type": "code",
   "execution_count": 6,
   "metadata": {},
   "outputs": [
    {
     "name": "stdout",
     "output_type": "stream",
     "text": [
      "36\n"
     ]
    }
   ],
   "source": [
    "# 5. Write a Python program to sum all the items in a list. \n",
    "\n",
    "myList=[2,3,4,1,9,7,10]\n",
    "sum=0\n",
    "for i in myList:\n",
    "    sum+=i\n",
    "print(sum)"
   ]
  },
  {
   "cell_type": "code",
   "execution_count": 8,
   "metadata": {},
   "outputs": [
    {
     "name": "stdout",
     "output_type": "stream",
     "text": [
      "15120\n"
     ]
    }
   ],
   "source": [
    "# 6. Write a Python program to multiply all the items in a list.\n",
    "myList=[2,3,4,1,9,7,10]\n",
    "sum=1\n",
    "for i in myList:\n",
    "    sum*=i\n",
    "print(sum)"
   ]
  },
  {
   "cell_type": "code",
   "execution_count": 16,
   "metadata": {},
   "outputs": [],
   "source": [
    "# 7. Write a Python program to check if a list is empty or not.\n",
    "\n",
    "list=['a']\n",
    "list=[]\n",
    "\n",
    "for i in list:\n",
    "    if not list:\n",
    "        raise ValueError\n",
    "    else:\n",
    "        print(\"Not Empty\")"
   ]
  },
  {
   "cell_type": "code",
   "execution_count": 22,
   "metadata": {},
   "outputs": [
    {
     "name": "stdout",
     "output_type": "stream",
     "text": [
      "myList=  [2, 3, 4, 1, 9, 7, 10]\n",
      "List after even number removal:  [3, 1, 9, 7]\n"
     ]
    }
   ],
   "source": [
    "# 8. Write a Python program to print the numbers of a specified list after removing even \n",
    "# numbers from it. \n",
    "\n",
    "myList=[2,3,4,1,9,7,10]\n",
    "print(\"myList= \",myList)\n",
    "for i in myList:\n",
    "    if i%2==0:\n",
    "        myList.remove(i)\n",
    "print(\"List after even number removal: \",myList)        "
   ]
  },
  {
   "cell_type": "markdown",
   "metadata": {},
   "source": [
    "9. Write a Python Program to print a specified list after removing the 0th, 4th and 5th element. \n",
    "Sample list: [‘Red’, ‘Green’, ‘White’, ‘Black’, ‘Pink’, ‘Yellow’] \n",
    "Expected Output: [‘Green’, ‘White’, ‘Black’] "
   ]
  },
  {
   "cell_type": "code",
   "execution_count": 44,
   "metadata": {},
   "outputs": [
    {
     "name": "stdout",
     "output_type": "stream",
     "text": [
      "['Red', 'Green', 'White', 'Black', 'Pink', 'Yellow']\n",
      "['Red', 'Green', 'White', 'Black', 'Pink', 'Yellow']\n"
     ]
    }
   ],
   "source": [
    "sampleList=['Red', 'Green', 'White', 'Black', 'Pink', 'Yellow']\n",
    "print(sampleList)\n",
    "for i in sampleList:\n",
    "    if i==0 or i==4 or i==5:\n",
    "        sampleList.remove(sampleList[i])\n",
    "        # sampleList.remove(4)\n",
    "        # sampleList.remove(5)\n",
    "print(sampleList)\n"
   ]
  },
  {
   "cell_type": "code",
   "execution_count": 60,
   "metadata": {},
   "outputs": [
    {
     "ename": "TypeError",
     "evalue": "'list' object is not callable",
     "output_type": "error",
     "traceback": [
      "\u001b[1;31m---------------------------------------------------------------------------\u001b[0m",
      "\u001b[1;31mTypeError\u001b[0m                                 Traceback (most recent call last)",
      "Cell \u001b[1;32mIn[60], line 15\u001b[0m\n\u001b[0;32m      5\u001b[0m \u001b[38;5;66;03m# n=len(list)\u001b[39;00m\n\u001b[0;32m      6\u001b[0m \u001b[38;5;66;03m# for i in list:\u001b[39;00m\n\u001b[0;32m      7\u001b[0m \u001b[38;5;66;03m#     for j in (i,n):\u001b[39;00m\n\u001b[0;32m      8\u001b[0m \u001b[38;5;66;03m#         if i==j:\u001b[39;00m\n\u001b[0;32m      9\u001b[0m \u001b[38;5;66;03m#             list.remove(i)\u001b[39;00m\n\u001b[0;32m     10\u001b[0m \u001b[38;5;66;03m# print(list)\u001b[39;00m\n\u001b[0;32m     14\u001b[0m myList\u001b[38;5;241m=\u001b[39m\u001b[38;5;28mset\u001b[39m(myList)\n\u001b[1;32m---> 15\u001b[0m myList\u001b[38;5;241m=\u001b[39m\u001b[38;5;28;43mlist\u001b[39;49m\u001b[43m(\u001b[49m\u001b[43mmyList\u001b[49m\u001b[43m)\u001b[49m\n\u001b[0;32m     16\u001b[0m \u001b[38;5;28mprint\u001b[39m(myList)\n",
      "\u001b[1;31mTypeError\u001b[0m: 'list' object is not callable"
     ]
    }
   ],
   "source": [
    "# 11.Write a Python program to remove duplicates from a list\n",
    "\n",
    "\n",
    "\n",
    "# n=len(list)\n",
    "# for i in list:\n",
    "#     for j in (i,n):\n",
    "#         if i==j:\n",
    "#             list.remove(i)\n",
    "# print(list)\n",
    "\n",
    "myList=[1,2,2,4,5,6,6,7,9]\n",
    "\n",
    "myList=set(myList)\n",
    "print(myList)"
   ]
  },
  {
   "cell_type": "code",
   "execution_count": 33,
   "metadata": {},
   "outputs": [
    {
     "name": "stdout",
     "output_type": "stream",
     "text": [
      "['Yellow', 'Pink', 'Black', 'White', 'Green', 'Red']\n"
     ]
    }
   ],
   "source": [
    "# 13.Write a Python Program to print a list in a reverse order. \n",
    "sampleList=['Red', 'Green', 'White', 'Black', 'Pink', 'Yellow']\n",
    "print(sampleList[::-1])"
   ]
  },
  {
   "cell_type": "code",
   "execution_count": 37,
   "metadata": {},
   "outputs": [
    {
     "name": "stdout",
     "output_type": "stream",
     "text": [
      "newList=  [-500, -12, 0, 4, 7, 12, 45, 100, 200]\n"
     ]
    }
   ],
   "source": [
    "# 14.Write a Python program to sort a given list of strings (numbers) numerically. \n",
    "# Original list: \n",
    "# ['4', '12', '45', '7', '0', '100', '200', '-12', '-500'] \n",
    "# Sort the said list of strings(numbers) numerically: \n",
    "# [-500, -12, 0, 4, 7, 12, 45, 100, 200\n",
    "\n",
    "List=['4', '12', '45', '7', '0', '100', '200', '-12', '-500']\n",
    "newList=[]\n",
    "for i in List:\n",
    "    a=int(i)\n",
    "    newList.append(a)\n",
    "    newList.sort()\n",
    "print(\"newList= \",newList)\n",
    "    "
   ]
  },
  {
   "cell_type": "code",
   "execution_count": 2,
   "metadata": {},
   "outputs": [
    {
     "name": "stdout",
     "output_type": "stream",
     "text": [
      "List After Append=  [2, 1, 4, 5, 10]\n",
      "List after removing 4=  [2, 1, 5, 10]\n",
      "List after pop()=  [2, 1, 5]\n",
      "after insert =  [2, 1, 6, 5]\n",
      "After sort =  [1, 2, 5, 6]\n",
      "Max=  6\n",
      "Min=  1\n"
     ]
    }
   ],
   "source": [
    "# 15.Apply various functions like append, remove, pop, insert, sort, max, min in a list. \n",
    "\n",
    "list=[2,1,4,5]\n",
    "\n",
    "list.append(10)\n",
    "print(\"List After Append= \",list)\n",
    "\n",
    "list.remove(4)\n",
    "print(\"List after removing 4= \",list)\n",
    "\n",
    "list.pop()\n",
    "print(\"List after pop()= \",list)\n",
    "\n",
    "list.insert(2,6)\n",
    "print(\"after insert = \",list)\n",
    "\n",
    "list.sort()\n",
    "print(\"After sort = \",list)\n",
    "\n",
    "\n",
    "print(\"Max= \",max(list))\n",
    "\n",
    "print(\"Min= \",min(list))"
   ]
  },
  {
   "cell_type": "code",
   "execution_count": 45,
   "metadata": {},
   "outputs": [
    {
     "name": "stdout",
     "output_type": "stream",
     "text": [
      "[2, 3, 6, 4, 5, 7]\n"
     ]
    }
   ],
   "source": [
    "# 16.Write a python program to copy a content of one list to another\n",
    "\n",
    "List=[2,3,6,4,5,7]\n",
    "newList=[]\n",
    "\n",
    "newList=List.copy()\n",
    "print(newList)"
   ]
  },
  {
   "cell_type": "code",
   "execution_count": 70,
   "metadata": {},
   "outputs": [
    {
     "ename": "ValueError",
     "evalue": "'1emp' is not in list",
     "output_type": "error",
     "traceback": [
      "\u001b[1;31m---------------------------------------------------------------------------\u001b[0m",
      "\u001b[1;31mValueError\u001b[0m                                Traceback (most recent call last)",
      "Cell \u001b[1;32mIn[70], line 5\u001b[0m\n\u001b[0;32m      3\u001b[0m \u001b[38;5;28;01mfor\u001b[39;00m i \u001b[38;5;129;01min\u001b[39;00m \u001b[38;5;28mlist\u001b[39m:\n\u001b[0;32m      4\u001b[0m     a\u001b[38;5;241m=\u001b[39m\u001b[38;5;28mstr\u001b[39m(i)\n\u001b[1;32m----> 5\u001b[0m     c\u001b[38;5;241m=\u001b[39m\u001b[43mmylist\u001b[49m\u001b[38;5;241;43m.\u001b[39;49m\u001b[43mindex\u001b[49m\u001b[43m(\u001b[49m\u001b[43mi\u001b[49m\u001b[43m)\u001b[49m\n\u001b[0;32m      6\u001b[0m     b\u001b[38;5;241m=\u001b[39m\u001b[38;5;124m\"\u001b[39m\u001b[38;5;124memp\u001b[39m\u001b[38;5;124m\"\u001b[39m\u001b[38;5;241m+\u001b[39ma\n\u001b[0;32m      7\u001b[0m     mylist[c]\u001b[38;5;241m=\u001b[39mb\n",
      "\u001b[1;31mValueError\u001b[0m: '1emp' is not in list"
     ]
    }
   ],
   "source": [
    "mylist=[1,2,3,4,5]\n",
    "\n",
    "for i in list:\n",
    "    a=str(i)\n",
    "    c=mylist.index(i)\n",
    "    b=\"emp\"+a\n",
    "    mylist[c]=b\n",
    "    # list.clear()\n",
    "    # list.append(b)\n",
    "print(mylist)"
   ]
  },
  {
   "cell_type": "code",
   "execution_count": 1,
   "metadata": {},
   "outputs": [
    {
     "name": "stdout",
     "output_type": "stream",
     "text": [
      "Sorted list by index 1 : [[4, 2, 9], [1, 5, 3], [3, 7, 1], [7, 8, 6]]\n"
     ]
    }
   ],
   "source": [
    "# List of lists\n",
    "list_of_lists = [[1, 5, 3], [4, 2, 9], [7, 8, 6], [3, 7, 1]]\n",
    "\n",
    "# Given index to sort by\n",
    "index = 1\n",
    "\n",
    "# Define a function that returns the element at the given index\n",
    "def get_index_element(inner_list):\n",
    "    return inner_list[index]\n",
    "\n",
    "# Sort the list of lists using the custom function as the key\n",
    "sorted_list = sorted(list_of_lists, key=get_index_element)\n",
    "\n",
    "# Output the sorted list\n",
    "print(\"Sorted list by index\", index, \":\", sorted_list)\n"
   ]
  },
  {
   "cell_type": "code",
   "execution_count": 1,
   "metadata": {},
   "outputs": [
    {
     "name": "stdout",
     "output_type": "stream",
     "text": [
      "5\n",
      "6 7 9 10 "
     ]
    }
   ],
   "source": [
    "# 20.Write a Python program to insert n values in a list and find those values in a list that are \n",
    "# greater than a specified number.\n",
    "\n",
    "list=[2,3,4,1,6,5,7,9,10]\n",
    "n=int(input(\"Enter a number: \"))\n",
    "\n",
    "print(n)\n",
    "for i in list:\n",
    "    if i>n:\n",
    "        print(i,end=\" \")"
   ]
  }
 ],
 "metadata": {
  "kernelspec": {
   "display_name": "Python 3",
   "language": "python",
   "name": "python3"
  },
  "language_info": {
   "codemirror_mode": {
    "name": "ipython",
    "version": 3
   },
   "file_extension": ".py",
   "mimetype": "text/x-python",
   "name": "python",
   "nbconvert_exporter": "python",
   "pygments_lexer": "ipython3",
   "version": "3.12.4"
  }
 },
 "nbformat": 4,
 "nbformat_minor": 2
}
