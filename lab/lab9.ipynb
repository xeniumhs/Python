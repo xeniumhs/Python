{
 "cells": [
  {
   "cell_type": "code",
   "execution_count": 4,
   "metadata": {},
   "outputs": [
    {
     "ename": "AttributeError",
     "evalue": "'function' object has no attribute 'locals'",
     "output_type": "error",
     "traceback": [
      "\u001b[1;31m---------------------------------------------------------------------------\u001b[0m",
      "\u001b[1;31mAttributeError\u001b[0m                            Traceback (most recent call last)",
      "Cell \u001b[1;32mIn[4], line 5\u001b[0m\n\u001b[0;32m      2\u001b[0m \u001b[38;5;28;01mdef\u001b[39;00m \u001b[38;5;21mstudent\u001b[39m(\u001b[38;5;28mid\u001b[39m,marks):    \n\u001b[0;32m      3\u001b[0m     \u001b[38;5;28mprint\u001b[39m(student\u001b[38;5;241m.\u001b[39mlocals())\n\u001b[1;32m----> 5\u001b[0m \u001b[43mstudent\u001b[49m\u001b[43m(\u001b[49m\u001b[38;5;241;43m2\u001b[39;49m\u001b[43m,\u001b[49m\u001b[38;5;241;43m3\u001b[39;49m\u001b[43m)\u001b[49m\n",
      "Cell \u001b[1;32mIn[4], line 3\u001b[0m, in \u001b[0;36mstudent\u001b[1;34m(id, marks)\u001b[0m\n\u001b[0;32m      2\u001b[0m \u001b[38;5;28;01mdef\u001b[39;00m \u001b[38;5;21mstudent\u001b[39m(\u001b[38;5;28mid\u001b[39m,marks):    \n\u001b[1;32m----> 3\u001b[0m     \u001b[38;5;28mprint\u001b[39m(\u001b[43mstudent\u001b[49m\u001b[38;5;241;43m.\u001b[39;49m\u001b[43mlocals\u001b[49m())\n",
      "\u001b[1;31mAttributeError\u001b[0m: 'function' object has no attribute 'locals'"
     ]
    }
   ],
   "source": [
    "# Define a python func student() using function attributes display the names of all arguments.\n",
    "def student(id,marks):    \n",
    "    print(student.locals())\n",
    "    \n",
    "student(2,3)"
   ]
  },
  {
   "cell_type": "code",
   "execution_count": 8,
   "metadata": {},
   "outputs": [
    {
     "name": "stdout",
     "output_type": "stream",
     "text": [
      "abc 12\n"
     ]
    }
   ],
   "source": [
    "# WAP Py function student_data() that will print the ID of a student (student_id).If the user passes an argument student_name or student_class the function will print the student name and class.\n",
    "\n",
    "def student_data(student_id,student_name,student_class):\n",
    "    if student_name or student_class:\n",
    "        print(student_name,student_class)\n",
    "    else:\n",
    "        print(student_id)\n",
    "student_data(1,\"abc\",12)"
   ]
  },
  {
   "cell_type": "code",
   "execution_count": 10,
   "metadata": {},
   "outputs": [
    {
     "name": "stdout",
     "output_type": "stream",
     "text": [
      "Original values:\n",
      "Student Name: Alice, Marks: 85\n",
      "\n",
      "Modified values:\n",
      "Student Name: Bob, Marks: 90\n"
     ]
    }
   ],
   "source": [
    "#3 Write a Python class named Student with two attributes student_name, marks. Modify the\n",
    "# attribute values of the said class and print the original and modified values of the said\n",
    "# attributes.\n",
    "\n",
    "class Student:\n",
    "    def __init__(self, student_name, marks):\n",
    "        self.student_name = student_name\n",
    "        self.marks = marks\n",
    "\n",
    "    def display_details(self):\n",
    "        print(f\"Student Name: {self.student_name}, Marks: {self.marks}\")\n",
    "\n",
    "\n",
    "# Example usage:\n",
    "# Create an instance of the Student class\n",
    "student = Student(\"Alice\", 85)\n",
    "\n",
    "# Print original values\n",
    "print(\"Original values:\")\n",
    "student.display_details()\n",
    "\n",
    "# Modify the attribute values\n",
    "student.student_name = \"Bob\"\n",
    "student.marks = 90\n",
    "\n",
    "# Print modified values\n",
    "print(\"\\nModified values:\")\n",
    "student.display_details()\n"
   ]
  },
  {
   "cell_type": "code",
   "execution_count": null,
   "metadata": {},
   "outputs": [
    {
     "ename": "TypeError",
     "evalue": "Student.__init__() missing 2 required positional arguments: 'student_id' and 'student_name'",
     "output_type": "error",
     "traceback": [
      "\u001b[1;31m---------------------------------------------------------------------------\u001b[0m",
      "\u001b[1;31mTypeError\u001b[0m                                 Traceback (most recent call last)",
      "Cell \u001b[1;32mIn[14], line 10\u001b[0m\n\u001b[0;32m      7\u001b[0m         \u001b[38;5;28mself\u001b[39m\u001b[38;5;241m.\u001b[39mstudent_id\u001b[38;5;241m=\u001b[39mstudent_id\n\u001b[0;32m      8\u001b[0m         \u001b[38;5;28mself\u001b[39m\u001b[38;5;241m.\u001b[39mstudent_name\u001b[38;5;241m=\u001b[39mstudent_name\n\u001b[1;32m---> 10\u001b[0m \u001b[43mStudent\u001b[49m\u001b[43m(\u001b[49m\u001b[43m)\u001b[49m\n",
      "\u001b[1;31mTypeError\u001b[0m: Student.__init__() missing 2 required positional arguments: 'student_id' and 'student_name'"
     ]
    }
   ],
   "source": [
    "# 4. Write a Python class named Student with two attributes student_id, student_name. Add a\n",
    "# new attribute student_class and display the entire attribute and the values of the class. Now\n",
    "# remove the student_name attribute and display the entire attribute with values. \n",
    "\n",
    "class Student:\n",
    "    def __init__(self,student_id,student_name):\n",
    "        self.student_id=student_id\n",
    "        self.student_name=student_name\n",
    "\n"
   ]
  },
  {
   "cell_type": "code",
   "execution_count": 13,
   "metadata": {},
   "outputs": [
    {
     "name": "stdout",
     "output_type": "stream",
     "text": [
      "Bob 12\n"
     ]
    }
   ],
   "source": [
    "# 6. Write a Python class named Dog that has two attributes: name and age. Then, create an\n",
    "# instance of your Dog class and print out the name and age of the dog. \n",
    "\n",
    "class Dog:\n",
    "    def __init__(self,name,age):\n",
    "        self.name=name\n",
    "        self.age=age\n",
    "Bob=Dog(\"Bob\",12)\n",
    "print(Bob.name,Bob.age)"
   ]
  },
  {
   "cell_type": "code",
   "execution_count": 2,
   "metadata": {},
   "outputs": [
    {
     "name": "stdout",
     "output_type": "stream",
     "text": [
      "Dog1-Name: Bruno,Age:2\n",
      "Dog2-Name: Sher,Age:3\n"
     ]
    }
   ],
   "source": [
    "# 7. Create two instances from the Dog class. For the first instance, set the name to 'Bruno' and \n",
    "# age to 2. For the second instance, set the name to 'Sher' and age to 3. Print out the information \n",
    "# for both dogs. \n",
    "class Dog:\n",
    "    def __init__(self,name,age):\n",
    "        self.name=name\n",
    "        self.age=age\n",
    "    \n",
    "dog1=Dog(\"Bruno\",2)\n",
    "dog2=Dog(\"Sher\",3)\n",
    "print(f\"Dog1-Name: {dog1.name},Age:{dog1.age}\")\n",
    "print(f\"Dog2-Name: {dog2.name},Age:{dog2.age}\")"
   ]
  },
  {
   "cell_type": "code",
   "execution_count": null,
   "metadata": {},
   "outputs": [],
   "source": []
  }
 ],
 "metadata": {
  "kernelspec": {
   "display_name": "Python 3",
   "language": "python",
   "name": "python3"
  },
  "language_info": {
   "codemirror_mode": {
    "name": "ipython",
    "version": 3
   },
   "file_extension": ".py",
   "mimetype": "text/x-python",
   "name": "python",
   "nbconvert_exporter": "python",
   "pygments_lexer": "ipython3",
   "version": "3.12.4"
  }
 },
 "nbformat": 4,
 "nbformat_minor": 2
}
