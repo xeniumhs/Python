{
 "cells": [
  {
   "cell_type": "markdown",
   "metadata": {},
   "source": [
    "<h5 >Positional-Only Argument</h5>    "
   ]
  },
  {
   "cell_type": "code",
   "execution_count": 3,
   "metadata": {},
   "outputs": [
    {
     "name": "stdout",
     "output_type": "stream",
     "text": [
      "2\n"
     ]
    }
   ],
   "source": [
    "#positional-only argument\n",
    "\n",
    "def myFunc(x,/):\n",
    "    print(x)\n",
    "myFunc(2)\n"
   ]
  },
  {
   "cell_type": "code",
   "execution_count": 6,
   "metadata": {},
   "outputs": [
    {
     "name": "stdout",
     "output_type": "stream",
     "text": [
      "Evaluating positional-only arguments: \n",
      "88\n",
      "88\n"
     ]
    }
   ],
   "source": [
    "def posFun(x,y,/,z):\n",
    "    print(x+y+z)\n",
    "print(\"Evaluating positional-only arguments: \")\n",
    "posFun(33,44,z=11)\n",
    "posFun(33,44,11)"
   ]
  },
  {
   "cell_type": "markdown",
   "metadata": {
    "vscode": {
     "languageId": "html"
    }
   },
   "source": [
    "<h5>Combine Positional-Only Argument</h5>\n"
   ]
  },
  {
   "cell_type": "code",
   "execution_count": 7,
   "metadata": {},
   "outputs": [
    {
     "name": "stdout",
     "output_type": "stream",
     "text": [
      "26\n"
     ]
    }
   ],
   "source": [
    "def myFunc(a,b,/,*,c,d):\n",
    "    print(a+b+c+d)\n",
    "myFunc(5,6,c=6,d=9)"
   ]
  },
  {
   "cell_type": "markdown",
   "metadata": {
    "vscode": {
     "languageId": "html"
    }
   },
   "source": [
    "<h5>Arbitary Keyword Arguments</h5>\n",
    "(variable-length arguments *args and **kwargs)"
   ]
  },
  {
   "cell_type": "code",
   "execution_count": 9,
   "metadata": {},
   "outputs": [
    {
     "name": "stdout",
     "output_type": "stream",
     "text": [
      "20\n"
     ]
    }
   ],
   "source": [
    "def add(*numbers):\n",
    "    return sum(numbers)\n",
    "# we can pass any no. of arguments\n",
    "print(add(1,2,5,6,6))"
   ]
  },
  {
   "cell_type": "code",
   "execution_count": 10,
   "metadata": {},
   "outputs": [
    {
     "name": "stdout",
     "output_type": "stream",
     "text": [
      "Hello Welcome to Class "
     ]
    }
   ],
   "source": [
    "#   *args for variable no. of arguments\n",
    "\n",
    "def myFunc(*argv):\n",
    "    for arg in argv:\n",
    "        print(arg,end=\" \")\n",
    "\n",
    "myFunc('Hello','Welcome','to','Class')"
   ]
  },
  {
   "cell_type": "code",
   "execution_count": 13,
   "metadata": {},
   "outputs": [
    {
     "name": "stdout",
     "output_type": "stream",
     "text": [
      "The youngest child is Bharat\n"
     ]
    }
   ],
   "source": [
    "def myFunc(*kids):\n",
    "    print(\"The youngest child is \"  +kids[2])\n",
    "myFunc(\"Ram\",\"Laxman\",\"Bharat\")"
   ]
  },
  {
   "cell_type": "code",
   "execution_count": 17,
   "metadata": {},
   "outputs": [
    {
     "name": "stdout",
     "output_type": "stream",
     "text": [
      "name: Xen\n",
      "greet: Hello\n",
      "cls: World\n"
     ]
    }
   ],
   "source": [
    "#func to print keyword arguments\n",
    "def greet(**words):\n",
    "    for key, value in words.items():\n",
    "        print(f\"{key}: {value}\")\n",
    "\n",
    "#pass any no. of keyword argument\n",
    "\n",
    "greet(name=\"Xen\",greet=\"Hello\" ,cls =\"World\")"
   ]
  },
  {
   "cell_type": "code",
   "execution_count": 18,
   "metadata": {},
   "outputs": [
    {
     "name": "stdout",
     "output_type": "stream",
     "text": [
      "His Last name is Python\n"
     ]
    }
   ],
   "source": [
    "def myFunc(**kid):\n",
    "    print(\"His Last name is \"+kid[\"lname\"])\n",
    "myFunc(fname=\"class\",lname=\"Python\",mname=\"HI\")"
   ]
  },
  {
   "cell_type": "code",
   "execution_count": 19,
   "metadata": {},
   "outputs": [
    {
     "name": "stdout",
     "output_type": "stream",
     "text": [
      "first==Khwopa\n",
      "mid==Engineering\n",
      "last==College\n"
     ]
    }
   ],
   "source": [
    "def Func(**kwargs):\n",
    "    for key, value in kwargs.items():\n",
    "        print(\"%s==%s\"%(key, value))\n",
    "Func(first=\"Khwopa\",mid=\"Engineering\",last=\"College\")\n"
   ]
  },
  {
   "cell_type": "code",
   "execution_count": 21,
   "metadata": {},
   "outputs": [
    {
     "name": "stdout",
     "output_type": "stream",
     "text": [
      "pass two keyword args \n",
      "Name:Xen\n",
      "City:Bkt\n",
      "pass four keyword args\n",
      "Name:xen\n",
      "City:Ktm\n",
      "phno:90293029339\n",
      "PIN:49090\n"
     ]
    }
   ],
   "source": [
    "def addr(**kwargs):\n",
    "    for k,v in kwargs.items():\n",
    "        print(\"{}:{}\".format(k,v))\n",
    "print(\"pass two keyword args \")\n",
    "addr(Name=\"Xen\",City=\"Bkt\")\n",
    "print(\"pass four keyword args\")\n",
    "addr(Name=\"xen\",City=\"Ktm\",phno=\"90293029339\",PIN=\"49090\")"
   ]
  },
  {
   "cell_type": "code",
   "execution_count": 22,
   "metadata": {},
   "outputs": [
    {
     "name": "stdout",
     "output_type": "stream",
     "text": [
      "Maths:  93\n",
      "Sci:  98\n",
      "Eng:89\n",
      "Hist:87\n",
      "Geo:88\n",
      "Percentage:  91.0\n"
     ]
    }
   ],
   "source": [
    "def percent(math, sci ,**optional):\n",
    "    print(\"Maths: \",math)\n",
    "    print(\"Sci: \",sci)\n",
    "    s=math+sci\n",
    "    for k,v in optional.items():\n",
    "        print(\"{}:{}\".format(k,v))\n",
    "        s=s+v\n",
    "    return s/(len(optional)+2)\n",
    "\n",
    "result=percent(math=93,sci=98,Eng=89,Hist=87,Geo=88)\n",
    "print(\"Percentage: \",result)"
   ]
  },
  {
   "cell_type": "markdown",
   "metadata": {},
   "source": [
    "<h5>Equivalent Function Calls</h5>"
   ]
  },
  {
   "cell_type": "code",
   "execution_count": 24,
   "metadata": {},
   "outputs": [
    {
     "name": "stdout",
     "output_type": "stream",
     "text": [
      "Result= 10\n",
      "Result= 13\n",
      "Result= 16\n",
      "Result= 15\n"
     ]
    }
   ],
   "source": [
    "def Func(a=4,b=6):\n",
    "    sum=a+b\n",
    "    return sum\n",
    "result1=Func()\n",
    "print(\"Result=\",result1)\n",
    "\n",
    "result2=Func(a=5,b=8)\n",
    "print(\"Result=\",result2)\n",
    "\n",
    "result3=Func(7,9)\n",
    "print(\"Result=\",result3)\n",
    "\n",
    "result4=Func(9)\n",
    "print(\"Result=\",result4)\n"
   ]
  }
 ],
 "metadata": {
  "kernelspec": {
   "display_name": "Python 3",
   "language": "python",
   "name": "python3"
  },
  "language_info": {
   "codemirror_mode": {
    "name": "ipython",
    "version": 3
   },
   "file_extension": ".py",
   "mimetype": "text/x-python",
   "name": "python",
   "nbconvert_exporter": "python",
   "pygments_lexer": "ipython3",
   "version": "3.12.4"
  }
 },
 "nbformat": 4,
 "nbformat_minor": 2
}
