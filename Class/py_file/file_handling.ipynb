{
 "cells": [
  {
   "cell_type": "code",
   "execution_count": 5,
   "metadata": {},
   "outputs": [
    {
     "name": "stdout",
     "output_type": "stream",
     "text": [
      "Content Added Succesfully!!\n",
      "Hello World!\n",
      "This is Xen\n",
      "Suwal\n"
     ]
    }
   ],
   "source": [
    "with open(\"example.txt\",\"w\") as file:\n",
    "    file.write(\"\"\"Hello World!\n",
    "This is Xen\n",
    "Suwal\"\"\")\n",
    "    print(\"Content Added Succesfully!!\")\n",
    "\n",
    "f=open(\"example.txt\",\"r\")\n",
    "print(f.read())"
   ]
  },
  {
   "cell_type": "code",
   "execution_count": 9,
   "metadata": {},
   "outputs": [
    {
     "name": "stdout",
     "output_type": "stream",
     "text": [
      "This is the write command.\n",
      "This is the write command.\n"
     ]
    }
   ],
   "source": [
    "file=open(\"example.txt\",\"w\")\n",
    "file.write(\"This is the write command.\\n\")\n",
    "file.write(\"This is the write command.\")\n",
    "file.close()\n",
    "\n",
    "f=open(\"example.txt\")\n",
    "print(f.read())"
   ]
  },
  {
   "cell_type": "code",
   "execution_count": 15,
   "metadata": {},
   "outputs": [
    {
     "name": "stdout",
     "output_type": "stream",
     "text": [
      "Data is writen in the file as follows:\n",
      "sddfc\n",
      "hbgf\n",
      "jh'\n",
      "\n"
     ]
    }
   ],
   "source": [
    "file=open(\"example.txt\",\"w\")\n",
    "\n",
    "for i in range(3):\n",
    "    name=input(\"Enter the name:\")\n",
    "    file.write(name)\n",
    "    file.write(\"\\n\")\n",
    "file.close()\n",
    "\n",
    "print(\"Data is writen in the file as follows:\")\n",
    "file=open(\"example.txt\",\"r\")\n",
    "print(file.read())"
   ]
  },
  {
   "cell_type": "code",
   "execution_count": 16,
   "metadata": {},
   "outputs": [
    {
     "name": "stdout",
     "output_type": "stream",
     "text": [
      "Content added successfully!!\n",
      "First line\n",
      "Second line\n",
      "Third lines\n",
      "\n"
     ]
    }
   ],
   "source": [
    "#to write multiple lines at once\n",
    "\n",
    "lines=[\"First line\\n\",\"Second line\\n\",\"Third lines\\n\"]\n",
    "with open (\"example.txt\",\"w\" ) as file:\n",
    "    file.writelines(lines)\n",
    "    print(\"Content added successfully!!\")\n",
    "\n",
    "with open(\"example.txt\",\"r\") as f:\n",
    "    print(f.read())"
   ]
  },
  {
   "cell_type": "code",
   "execution_count": 18,
   "metadata": {},
   "outputs": [],
   "source": [
    "#using write and writelines methods\n",
    "\n",
    "file=open(\"example.txt\",\"w\")\n",
    "l=[\"This is C++\\n\",\"This is python\\n\",\"This is Java\\n\"]\n",
    "file.write(\"Hello There\\n\")\n",
    "file.writelines(l)\n",
    "file.close()"
   ]
  },
  {
   "cell_type": "code",
   "execution_count": 24,
   "metadata": {},
   "outputs": [
    {
     "ename": "AttributeError",
     "evalue": "'_io.TextIOWrapper' object has no attribute 'append'",
     "output_type": "error",
     "traceback": [
      "\u001b[1;31m---------------------------------------------------------------------------\u001b[0m",
      "\u001b[1;31mAttributeError\u001b[0m                            Traceback (most recent call last)",
      "Cell \u001b[1;32mIn[24], line 10\u001b[0m\n\u001b[0;32m      8\u001b[0m         file\u001b[38;5;241m=\u001b[39m\u001b[38;5;28mopen\u001b[39m(\u001b[38;5;124m\"\u001b[39m\u001b[38;5;124mtest.txt\u001b[39m\u001b[38;5;124m\"\u001b[39m,\u001b[38;5;124m\"\u001b[39m\u001b[38;5;124ma\u001b[39m\u001b[38;5;124m\"\u001b[39m)\n\u001b[0;32m      9\u001b[0m         s\u001b[38;5;241m=\u001b[39m\u001b[38;5;28minput\u001b[39m(\u001b[38;5;124m\"\u001b[39m\u001b[38;5;124menter\u001b[39m\u001b[38;5;124m\"\u001b[39m)\n\u001b[1;32m---> 10\u001b[0m         \u001b[43mfile\u001b[49m\u001b[38;5;241;43m.\u001b[39;49m\u001b[43mappend\u001b[49m(s)\n\u001b[0;32m     11\u001b[0m file\u001b[38;5;241m.\u001b[39mclose()\n",
      "\u001b[1;31mAttributeError\u001b[0m: '_io.TextIOWrapper' object has no attribute 'append'"
     ]
    }
   ],
   "source": [
    "n=int(input(\"Do you want to add to file? \"))\n",
    "while n==1:\n",
    "    if not file:\n",
    "        file=open(\"test.txt\",\"w\")\n",
    "        s=input(\"enter\")\n",
    "        file.write(s)\n",
    "    else:\n",
    "        file=open(\"test.txt\",\"a\")\n",
    "        s=input(\"enter\")\n",
    "        file.append(s)\n",
    "file.close()\n",
    "\n"
   ]
  },
  {
   "cell_type": "code",
   "execution_count": 22,
   "metadata": {},
   "outputs": [
    {
     "name": "stdout",
     "output_type": "stream",
     "text": [
      "Data is written into file as follows: \n",
      "fdsf\n",
      "sfs\n",
      "sfs\n",
      "\n"
     ]
    }
   ],
   "source": [
    "file=open(\"Employees.txt\",\"w\")\n",
    "lst=[]\n",
    "for i in range(3):\n",
    "    name=input(\"Enter the name\")\n",
    "    lst.append(name+'\\n')\n",
    "file.writelines(lst)\n",
    "file.close()\n",
    "\n",
    "print(\"Data is written into file as follows: \")\n",
    "f=open(\"Employees.txt\",\"r\")\n",
    "print(f.read())"
   ]
  }
 ],
 "metadata": {
  "kernelspec": {
   "display_name": "Python 3",
   "language": "python",
   "name": "python3"
  },
  "language_info": {
   "codemirror_mode": {
    "name": "ipython",
    "version": 3
   },
   "file_extension": ".py",
   "mimetype": "text/x-python",
   "name": "python",
   "nbconvert_exporter": "python",
   "pygments_lexer": "ipython3",
   "version": "3.12.4"
  }
 },
 "nbformat": 4,
 "nbformat_minor": 2
}
