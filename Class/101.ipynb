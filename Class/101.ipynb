{
 "cells": [
  {
   "cell_type": "markdown",
   "metadata": {},
   "source": [
    "<h2>Function</h2>"
   ]
  },
  {
   "cell_type": "markdown",
   "metadata": {},
   "source": [
    "<pre>\n",
    "def funcName(parameters):\n",
    "    #statements\n",
    "    return [expression]\n",
    "</pre>"
   ]
  },
  {
   "cell_type": "code",
   "execution_count": 9,
   "metadata": {},
   "outputs": [
    {
     "name": "stdout",
     "output_type": "stream",
     "text": [
      "Hello\n"
     ]
    }
   ],
   "source": [
    "def myFunc():\n",
    "    print(\"Hello\")\n",
    "myFunc() #calling function"
   ]
  },
  {
   "cell_type": "markdown",
   "metadata": {},
   "source": [
    "Calling Func\n",
    "<pre>\n",
    "funcName(Argument)\n",
    "</pre>"
   ]
  },
  {
   "cell_type": "code",
   "execution_count": 10,
   "metadata": {},
   "outputs": [
    {
     "name": "stdout",
     "output_type": "stream",
     "text": [
      "5\n",
      "8\n"
     ]
    }
   ],
   "source": [
    "#Using parameters\n",
    "def add(a, b):\n",
    "    print(a+b)\n",
    "add(2,3)\n",
    "\n",
    "#Using return statement\n",
    "def add(a, b):\n",
    "    c=a+b\n",
    "    #print(c)\n",
    "    return c\n",
    "m=add(3,5)\n",
    "print(m)"
   ]
  },
  {
   "cell_type": "code",
   "execution_count": 11,
   "metadata": {},
   "outputs": [
    {
     "name": "stdout",
     "output_type": "stream",
     "text": [
      "Hello world\n",
      "outside func\n"
     ]
    }
   ],
   "source": [
    "def greet():\n",
    "    \"THis is docstring of greet func\"\n",
    "    print(\"Hello world\")\n",
    "greet()\n",
    "print(\"outside func\")"
   ]
  },
  {
   "cell_type": "code",
   "execution_count": 15,
   "metadata": {},
   "outputs": [
    {
     "name": "stdout",
     "output_type": "stream",
     "text": [
      "My name is:  Xen\n"
     ]
    }
   ],
   "source": [
    "def myFunc(*name):\n",
    "    print(\"My name is: \", name[2])\n",
    "myFunc(\"Xenium\",\"Rushal\",\"Xen\")"
   ]
  },
  {
   "cell_type": "markdown",
   "metadata": {},
   "source": [
    "Arguments / Parameters\n",
    "\n",
    "<pre>\n",
    "def funcName (parameter:data_type)\n",
    "</pre>"
   ]
  },
  {
   "cell_type": "markdown",
   "metadata": {},
   "source": [
    "Types of Arguments\n",
    "<ul>\n",
    "<li>Default </li>\n",
    "<li>keyword (named arguments)</li>\n",
    "<li>positional</li>\n",
    "<li>arbitary(variable length arguments *args and **kwargs)</li>\n",
    "</ul>"
   ]
  },
  {
   "cell_type": "code",
   "execution_count": 17,
   "metadata": {},
   "outputs": [
    {
     "name": "stdout",
     "output_type": "stream",
     "text": [
      "fname lname\n",
      "Xenium Suwal\n"
     ]
    },
    {
     "ename": "TypeError",
     "evalue": "funcName() missing 1 required positional argument: 'lname'",
     "output_type": "error",
     "traceback": [
      "\u001b[1;31m---------------------------------------------------------------------------\u001b[0m",
      "\u001b[1;31mTypeError\u001b[0m                                 Traceback (most recent call last)",
      "Cell \u001b[1;32mIn[17], line 5\u001b[0m\n\u001b[0;32m      3\u001b[0m funcName(\u001b[38;5;124m\"\u001b[39m\u001b[38;5;124mfname\u001b[39m\u001b[38;5;124m\"\u001b[39m,\u001b[38;5;124m\"\u001b[39m\u001b[38;5;124mlname\u001b[39m\u001b[38;5;124m\"\u001b[39m)\n\u001b[0;32m      4\u001b[0m funcName(\u001b[38;5;28minput\u001b[39m(\u001b[38;5;124m\"\u001b[39m\u001b[38;5;124mFirst name: \u001b[39m\u001b[38;5;124m\"\u001b[39m),\u001b[38;5;28minput\u001b[39m(\u001b[38;5;124m\"\u001b[39m\u001b[38;5;124mLast name: \u001b[39m\u001b[38;5;124m\"\u001b[39m))\n\u001b[1;32m----> 5\u001b[0m \u001b[43mfuncName\u001b[49m\u001b[43m(\u001b[49m\u001b[38;5;124;43m\"\u001b[39;49m\u001b[38;5;124;43mfname\u001b[39;49m\u001b[38;5;124;43m\"\u001b[39;49m\u001b[43m)\u001b[49m\n",
      "\u001b[1;31mTypeError\u001b[0m: funcName() missing 1 required positional argument: 'lname'"
     ]
    }
   ],
   "source": [
    "def funcName(fname,lname):\n",
    "    print(fname+\" \"+lname)\n",
    "funcName(\"fname\",\"lname\")\n",
    "funcName(input(\"First name: \"),input(\"Last name: \"))\n",
    "funcName(\"fname\")       #gives error"
   ]
  },
  {
   "cell_type": "markdown",
   "metadata": {},
   "source": [
    "Docstring\n",
    "<br>\n",
    "<pre>\n",
    "print (funcName.__doc__)\n",
    "</pre>"
   ]
  },
  {
   "cell_type": "code",
   "execution_count": 25,
   "metadata": {},
   "outputs": [
    {
     "name": "stdout",
     "output_type": "stream",
     "text": [
      "Function to check if no. is even or odd\n",
      "Odd\n"
     ]
    }
   ],
   "source": [
    "def evenOdd(x):\n",
    "    \"\"\"Function to check if no. is even or odd\"\"\"\n",
    "    if (x%2==0):\n",
    "        print(\"even\")\n",
    "    else:\n",
    "        print(\"Odd\")\n",
    "print(evenOdd.__doc__)\n",
    "evenOdd(5)"
   ]
  },
  {
   "cell_type": "code",
   "execution_count": 26,
   "metadata": {},
   "outputs": [
    {
     "name": "stdout",
     "output_type": "stream",
     "text": [
      "The addition of 5 and 15 results 20.\n"
     ]
    }
   ],
   "source": [
    "#Type annotation\n",
    "def add(num1:int, num2:int)->int:\n",
    "    \"\"\"Add two numbers\"\"\"\n",
    "    num3=num1+num2\n",
    "    return num3\n",
    "\n",
    "#Assigning Values\n",
    "num1,num2=5,15\n",
    "ans=add(num1,num2)\n",
    "print(f\"The addition of {num1} and {num2} results {ans}.\")"
   ]
  },
  {
   "cell_type": "code",
   "execution_count": 30,
   "metadata": {},
   "outputs": [
    {
     "data": {
      "text/plain": [
       "'Hello,Xen'"
      ]
     },
     "execution_count": 30,
     "metadata": {},
     "output_type": "execute_result"
    }
   ],
   "source": [
    "def greet(name:str)->str:\n",
    "    \"\"\"This func greets the person passed in parameter\"\"\"\n",
    "    return f\"Hello,{name}\"\n",
    "greet(\"Xen\")"
   ]
  },
  {
   "cell_type": "code",
   "execution_count": 31,
   "metadata": {},
   "outputs": [
    {
     "data": {
      "text/plain": [
       "'Area: 93.60000000000001'"
      ]
     },
     "execution_count": 31,
     "metadata": {},
     "output_type": "execute_result"
    }
   ],
   "source": [
    "#type annotation with int, float\n",
    "\n",
    "def calculateArea(length:float,width:int)->float:\n",
    "    \"\"\"Calculate Area of rectangle\"\"\"\n",
    "    return f\"Area: {length*width}\"\n",
    "\n",
    "calculateArea(10.4,9)"
   ]
  },
  {
   "cell_type": "code",
   "execution_count": 32,
   "metadata": {},
   "outputs": [
    {
     "name": "stdout",
     "output_type": "stream",
     "text": [
      "I am from China\n",
      "I am from India\n",
      "I am from Nepal\n",
      "I am from Portugal\n"
     ]
    }
   ],
   "source": [
    "def myFunc(country=\"Nepal\"):\n",
    "    print(\"I am from \"+ country)\n",
    "\n",
    "myFunc(\"China\")\n",
    "myFunc(\"India\")\n",
    "myFunc()\n",
    "myFunc(\"Portugal\")\n"
   ]
  },
  {
   "cell_type": "markdown",
   "metadata": {},
   "source": [
    "Default Arguments"
   ]
  },
  {
   "cell_type": "code",
   "execution_count": 34,
   "metadata": {},
   "outputs": [
    {
     "name": "stdout",
     "output_type": "stream",
     "text": [
      "x:  10\n",
      "y:  15\n"
     ]
    }
   ],
   "source": [
    "#Python program to demonstrate default arguments\n",
    "\n",
    "def myFunc(x,y=15):\n",
    "    print(\"x: \",x)\n",
    "    print(\"y: \",y)\n",
    "#call func() with only one argument\n",
    "\n",
    "myFunc(10)"
   ]
  },
  {
   "cell_type": "code",
   "execution_count": 35,
   "metadata": {},
   "outputs": [
    {
     "name": "stdout",
     "output_type": "stream",
     "text": [
      "x:  10\n",
      "y:  15\n",
      "sum:  25\n",
      "x:  12\n",
      "y:  15\n",
      "sum:  27\n"
     ]
    }
   ],
   "source": [
    "def myFunc(x=12,y=15):\n",
    "    print(\"x: \",x)\n",
    "    print(\"y: \",y)\n",
    "    print(\"sum: \",x+y)\n",
    "#call func() with only one argument\n",
    "\n",
    "myFunc(10)\n",
    "myFunc()"
   ]
  },
  {
   "cell_type": "markdown",
   "metadata": {},
   "source": [
    "Keyword arguments(named Arguments)\n",
    "<br>\n",
    "caller doesn't need to remember order of parameters"
   ]
  },
  {
   "cell_type": "code",
   "execution_count": 37,
   "metadata": {},
   "outputs": [
    {
     "name": "stdout",
     "output_type": "stream",
     "text": [
      "Python Class\n",
      "Xenium Suwal\n"
     ]
    }
   ],
   "source": [
    "#Python program to demonstrate Keyword Arguments\n",
    "def student(fname,lname):\n",
    "    print(fname,lname)\n",
    "\n",
    "#Keyword Arguments\n",
    "\n",
    "student(fname='Python',lname='Class')\n",
    "student(lname=input(\"Enter Last name: \"),fname=input(\"Enter First name: \"))\n"
   ]
  },
  {
   "cell_type": "markdown",
   "metadata": {},
   "source": [
    "<h5>Keyword-Only Argument</h5>"
   ]
  },
  {
   "cell_type": "code",
   "execution_count": 38,
   "metadata": {},
   "outputs": [
    {
     "name": "stdout",
     "output_type": "stream",
     "text": [
      "3\n"
     ]
    }
   ],
   "source": [
    "def myFunc(*,x):\n",
    "    print(x)\n",
    "myFunc(x=3)\n"
   ]
  },
  {
   "cell_type": "code",
   "execution_count": 39,
   "metadata": {},
   "outputs": [
    {
     "ename": "TypeError",
     "evalue": "myFunc() takes 0 positional arguments but 1 was given",
     "output_type": "error",
     "traceback": [
      "\u001b[1;31m---------------------------------------------------------------------------\u001b[0m",
      "\u001b[1;31mTypeError\u001b[0m                                 Traceback (most recent call last)",
      "Cell \u001b[1;32mIn[39], line 3\u001b[0m\n\u001b[0;32m      1\u001b[0m \u001b[38;5;28;01mdef\u001b[39;00m \u001b[38;5;21mmyFunc\u001b[39m(\u001b[38;5;241m*\u001b[39m,x):\n\u001b[0;32m      2\u001b[0m     \u001b[38;5;28mprint\u001b[39m(x)\n\u001b[1;32m----> 3\u001b[0m \u001b[43mmyFunc\u001b[49m\u001b[43m(\u001b[49m\u001b[38;5;241;43m3\u001b[39;49m\u001b[43m)\u001b[49m\n",
      "\u001b[1;31mTypeError\u001b[0m: myFunc() takes 0 positional arguments but 1 was given"
     ]
    }
   ],
   "source": [
    "def myFunc(*,x):\n",
    "    print(x)\n",
    "myFunc(3)\n"
   ]
  },
  {
   "cell_type": "markdown",
   "metadata": {},
   "source": [
    "<h5>Positional Argument</h5>"
   ]
  },
  {
   "cell_type": "code",
   "execution_count": 41,
   "metadata": {},
   "outputs": [
    {
     "name": "stdout",
     "output_type": "stream",
     "text": [
      "I am Xen\n",
      "I am 19 years old\n",
      "Incorrect\n",
      "I am 19\n",
      "I am Xen years old\n"
     ]
    }
   ],
   "source": [
    "def nameAge(name,Age):\n",
    "    print(f\"I am {name}\")\n",
    "    print(f\"I am {Age} years old\")\n",
    "\n",
    "#correct order\n",
    "nameAge(\"Xen\",19)\n",
    "\n",
    "#incorrect order\n",
    "print(\"Incorrect\")\n",
    "nameAge(19,\"Xen\")"
   ]
  }
 ],
 "metadata": {
  "kernelspec": {
   "display_name": "Python 3",
   "language": "python",
   "name": "python3"
  },
  "language_info": {
   "codemirror_mode": {
    "name": "ipython",
    "version": 3
   },
   "file_extension": ".py",
   "mimetype": "text/x-python",
   "name": "python",
   "nbconvert_exporter": "python",
   "pygments_lexer": "ipython3",
   "version": "3.12.4"
  }
 },
 "nbformat": 4,
 "nbformat_minor": 2
}
