{
 "cells": [
  {
   "cell_type": "code",
   "execution_count": 4,
   "metadata": {},
   "outputs": [
    {
     "name": "stdout",
     "output_type": "stream",
     "text": [
      "<__main__.Dog object at 0x0000017CCDA36570>\n"
     ]
    }
   ],
   "source": [
    "class Dog:\n",
    "    def __init__(self):\n",
    "        pass\n",
    "ozzy=Dog()\n",
    "print(ozzy)\n",
    "#prints memory loc of objects of class dog "
   ]
  },
  {
   "cell_type": "code",
   "execution_count": 10,
   "metadata": {},
   "outputs": [
    {
     "name": "stdout",
     "output_type": "stream",
     "text": [
      "Shepherd\n",
      "2\n",
      "bark bark!\n",
      "Shepherd\n",
      "2\n",
      "Mustif is 4 year(s) old.\n",
      "Skippy is 12 year(s) old.\n",
      "Bulldog is 7 year(s) old.\n",
      "Mustif  is  5\n",
      "Mustif is 5 year(s) old.\n"
     ]
    }
   ],
   "source": [
    "class Dog:\n",
    "    def __init__(self,name,age):\n",
    "        self.name=name\n",
    "        self.age=age\n",
    "    def get_name(self):\n",
    "        return self.name\n",
    "    def get_age(self):\n",
    "        return self.age\n",
    "    def __str__(self):\n",
    "        return f\"{self.name} is {self.age} year(s) old.\"\n",
    "    def bark(self):\n",
    "        print(\"bark bark!\")\n",
    "    def doginfo(self):\n",
    "        print( self.name + \" is \"+str(self.age) + \" year(s) old.\")\n",
    "    def birthday(self):\n",
    "        self.age+=1\n",
    "    \n",
    "breed=Dog(\"Shepherd\",2)\n",
    "print(breed.name)\n",
    "print(breed.age)\n",
    "breed.bark()\n",
    "print(breed.get_name())\n",
    "print(breed.get_age())\n",
    "\n",
    "mustif=Dog(\"Mustif\",4)\n",
    "skippy=Dog(\"Skippy\",12)\n",
    "bulldog=Dog(\"Bulldog\",7)\n",
    "\n",
    "mustif.doginfo()\n",
    "skippy.doginfo()\n",
    "bulldog.doginfo()\n",
    "\n",
    "mustif.birthday()\n",
    "print(mustif.name,\" is \",mustif.age)\n",
    "print(mustif)\n"
   ]
  },
  {
   "cell_type": "markdown",
   "metadata": {},
   "source": [
    "<h3>__str__() method</h3>"
   ]
  },
  {
   "cell_type": "code",
   "execution_count": 19,
   "metadata": {},
   "outputs": [
    {
     "name": "stdout",
     "output_type": "stream",
     "text": [
      "Rodger details: \n",
      "Rodger is a  dog\n",
      "Breed:  Pug\n",
      "Color:  brown\n",
      "white\n",
      "Dog breed: Pug, color: white.\n",
      "Buzo details: \n",
      "Buzo is a  dog\n",
      "Breed:  Bullpdog\n",
      "Color:  black\n",
      "\n",
      "Accessing class variable using class name\n",
      "dog\n",
      "Dog's information: \n",
      "Dog breed: Pug, color: white.\n"
     ]
    }
   ],
   "source": [
    "class Dog:\n",
    "    #class variable\n",
    "    animal='dog'\n",
    "    #init method/constructor\n",
    "    def __init__(self,breed,color):\n",
    "        #Instance variable\n",
    "        self.breed=breed\n",
    "        self.color=color\n",
    "    #adds an instance variable\n",
    "    def setColor(self,color):\n",
    "        self.color=color\n",
    "    #retrives instance variable\n",
    "    def getColor(self):\n",
    "        return self.color\n",
    "    #Instance method\n",
    "    def __str__(self):\n",
    "        return f\"Dog breed: {self.breed}, color: {self.color}.\"\n",
    "    \n",
    "    Rodger=Dog(\"Pug\",\"brown\")\n",
    "    Buzo=Dog(\"Bullpdog\",\"black\")\n",
    "\n",
    "    print('Rodger details: ')\n",
    "    print('Rodger is a ',Rodger.animal)\n",
    "    print('Breed: ',Rodger.breed)\n",
    "    print('Color: ',Rodger.color)\n",
    "\n",
    "    \n",
    "\n",
    "    #modifying Attribute Values\n",
    "    Rodger.setColor(\"white\")\n",
    "    print(Rodger.getColor())\n",
    "    print(Rodger)\n",
    "    \n",
    "    print('Buzo details: ')\n",
    "    print('Buzo is a ',Buzo.animal)\n",
    "    print('Breed: ',Buzo.breed)\n",
    "    print('Color: ',Buzo.color)\n",
    "\n",
    "    #class variables can be accessed using class name also\n",
    "    print(\"\\nAccessing class variable using class name\")\n",
    "    print(Dog.animal)\n",
    "\n",
    "    print(\"Dog's information: \")\n",
    "    print(Rodger)"
   ]
  }
 ],
 "metadata": {
  "kernelspec": {
   "display_name": "Python 3",
   "language": "python",
   "name": "python3"
  },
  "language_info": {
   "codemirror_mode": {
    "name": "ipython",
    "version": 3
   },
   "file_extension": ".py",
   "mimetype": "text/x-python",
   "name": "python",
   "nbconvert_exporter": "python",
   "pygments_lexer": "ipython3",
   "version": "3.12.4"
  }
 },
 "nbformat": 4,
 "nbformat_minor": 2
}
