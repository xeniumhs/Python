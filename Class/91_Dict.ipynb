{
 "cells": [
  {
   "cell_type": "markdown",
   "metadata": {},
   "source": [
    "<h1>Dictionary</h1>"
   ]
  },
  {
   "cell_type": "markdown",
   "metadata": {},
   "source": [
    "Syntax:\n",
    "\n",
    "dictionaryName={key1:value1, key2:value2, ... , keyn:valuen}"
   ]
  },
  {
   "cell_type": "code",
   "execution_count": 3,
   "metadata": {},
   "outputs": [
    {
     "name": "stdout",
     "output_type": "stream",
     "text": [
      "{'brand': 'Ford', 'model': 'Mustang', 'year': 1962}\n",
      "Mustang\n",
      "1962\n",
      "3\n"
     ]
    }
   ],
   "source": [
    "dict={\n",
    "    \"brand\":\"Ford\",\n",
    "    \"model\":\"Mustang\",\n",
    "    \"year\":1962\n",
    "}\n",
    "print(dict)\n",
    "print(dict['model'])\n",
    "print(dict['year'])\n",
    "print(len (dict))"
   ]
  },
  {
   "cell_type": "code",
   "execution_count": 12,
   "metadata": {},
   "outputs": [
    {
     "name": "stdout",
     "output_type": "stream",
     "text": [
      "{'brand': 'Ford', 'model': 'Mustang', 'year': 2111}\n",
      "2111\n"
     ]
    }
   ],
   "source": [
    "thisdict = {\n",
    "  \"brand\": \"Ford\",\n",
    "  \"model\": \"Mustang\",\n",
    "  \"year\": 1964,\n",
    "  \"year\": 2020,\n",
    "  \"year\": 2111\n",
    "}\n",
    "print(thisdict)\n",
    "print(thisdict[\"year\"])"
   ]
  },
  {
   "cell_type": "code",
   "execution_count": 15,
   "metadata": {},
   "outputs": [
    {
     "name": "stdout",
     "output_type": "stream",
     "text": [
      "{0: 'Bardan', '1': 'Hello', 2: 2022, 3: ['bkt', 'ktm', 'ptn']}\n",
      "Bardan\n",
      "Hello\n",
      "Type:  <class 'dict'>\n",
      "bkt\n"
     ]
    }
   ],
   "source": [
    "dict={\n",
    "    0:\"Bardan\",\n",
    "    \"1\":\"Hello\",\n",
    "    2:2022,\n",
    "    3:[\"bkt\",\"ktm\",\"ptn\"]\n",
    "}\n",
    "print(dict)\n",
    "print(dict[0])\n",
    "print(dict[\"1\"])\n",
    "print('Type: ',type(dict))\n",
    "print(dict[3][0])"
   ]
  },
  {
   "cell_type": "code",
   "execution_count": 9,
   "metadata": {},
   "outputs": [
    {
     "name": "stdout",
     "output_type": "stream",
     "text": [
      "{}\n"
     ]
    }
   ],
   "source": [
    "myDict={}       #empty dictionary\n",
    "print(myDict)"
   ]
  },
  {
   "cell_type": "markdown",
   "metadata": {},
   "source": []
  },
  {
   "cell_type": "code",
   "execution_count": null,
   "metadata": {},
   "outputs": [],
   "source": [
    "#using dict\n",
    "myDict = dict({1:\"one\",2:\"two\"})\n",
    "print(myDict)"
   ]
  },
  {
   "cell_type": "code",
   "execution_count": 23,
   "metadata": {},
   "outputs": [
    {
     "ename": "TypeError",
     "evalue": "'dict' object is not callable",
     "output_type": "error",
     "traceback": [
      "\u001b[1;31m---------------------------------------------------------------------------\u001b[0m",
      "\u001b[1;31mTypeError\u001b[0m                                 Traceback (most recent call last)",
      "Cell \u001b[1;32mIn[23], line 1\u001b[0m\n\u001b[1;32m----> 1\u001b[0m myDict\u001b[38;5;241m=\u001b[39m\u001b[38;5;28;43mdict\u001b[39;49m\u001b[43m(\u001b[49m\u001b[43m[\u001b[49m\u001b[43m(\u001b[49m\u001b[38;5;241;43m1\u001b[39;49m\u001b[43m,\u001b[49m\u001b[38;5;124;43m'\u001b[39;49m\u001b[38;5;124;43mJohn\u001b[39;49m\u001b[38;5;124;43m'\u001b[39;49m\u001b[43m)\u001b[49m\u001b[43m,\u001b[49m\u001b[43m(\u001b[49m\u001b[38;5;241;43m2\u001b[39;49m\u001b[43m,\u001b[49m\u001b[38;5;124;43m'\u001b[39;49m\u001b[38;5;124;43mDavid\u001b[39;49m\u001b[38;5;124;43m'\u001b[39;49m\u001b[43m)\u001b[49m\u001b[43m]\u001b[49m\u001b[43m)\u001b[49m\n\u001b[0;32m      2\u001b[0m \u001b[38;5;28mprint\u001b[39m(myDict)\n",
      "\u001b[1;31mTypeError\u001b[0m: 'dict' object is not callable"
     ]
    }
   ],
   "source": [
    "myDict=dict([(1,'John'),(2,'David')])\n",
    "print(myDict)"
   ]
  },
  {
   "cell_type": "code",
   "execution_count": 26,
   "metadata": {},
   "outputs": [
    {
     "name": "stdout",
     "output_type": "stream",
     "text": [
      "Sean\n",
      "None\n"
     ]
    },
    {
     "ename": "KeyError",
     "evalue": "'Occupation'",
     "output_type": "error",
     "traceback": [
      "\u001b[1;31m---------------------------------------------------------------------------\u001b[0m",
      "\u001b[1;31mKeyError\u001b[0m                                  Traceback (most recent call last)",
      "Cell \u001b[1;32mIn[26], line 5\u001b[0m\n\u001b[0;32m      2\u001b[0m \u001b[38;5;28mprint\u001b[39m(myDict\u001b[38;5;241m.\u001b[39mget(\u001b[38;5;124m'\u001b[39m\u001b[38;5;124mName\u001b[39m\u001b[38;5;124m'\u001b[39m))\n\u001b[0;32m      3\u001b[0m \u001b[38;5;28mprint\u001b[39m(myDict\u001b[38;5;241m.\u001b[39mget(\u001b[38;5;124m'\u001b[39m\u001b[38;5;124mOccupation\u001b[39m\u001b[38;5;124m'\u001b[39m))     \u001b[38;5;66;03m#returns none\u001b[39;00m\n\u001b[1;32m----> 5\u001b[0m \u001b[38;5;28mprint\u001b[39m(\u001b[43mmyDict\u001b[49m\u001b[43m[\u001b[49m\u001b[38;5;124;43m'\u001b[39;49m\u001b[38;5;124;43mOccupation\u001b[39;49m\u001b[38;5;124;43m'\u001b[39;49m\u001b[43m]\u001b[49m)     \u001b[38;5;66;03m#error raised\u001b[39;00m\n",
      "\u001b[1;31mKeyError\u001b[0m: 'Occupation'"
     ]
    }
   ],
   "source": [
    "myDict={'Name':'Sean','Age':29}\n",
    "print(myDict.get('Name'))\n",
    "print(myDict.get('Occupation'))     #returns none\n",
    "\n",
    "print(myDict['Occupation'])     #error raised"
   ]
  },
  {
   "cell_type": "markdown",
   "metadata": {},
   "source": [
    "<h3>Keys and Values</h3>"
   ]
  },
  {
   "cell_type": "code",
   "execution_count": 29,
   "metadata": {},
   "outputs": [
    {
     "name": "stdout",
     "output_type": "stream",
     "text": [
      "dict_keys(['brand', 'model', 'year'])\n",
      "dict_keys(['brand', 'model', 'year', 'color'])\n",
      "dict_values(['Ford', 'Mustang', 1964, 'White'])\n"
     ]
    }
   ],
   "source": [
    "car = {\n",
    "  \"brand\": \"Ford\",\n",
    "  \"model\": \"Mustang\",\n",
    "  \"year\": 1964\n",
    "}\n",
    "\n",
    "#display keys\n",
    "x=car.keys()\n",
    "print(x)\n",
    "car[\"color\"]=\"White\"\n",
    "print(x)        #after change\n",
    "\n",
    "y=car.values()\n",
    "print(y)"
   ]
  },
  {
   "cell_type": "markdown",
   "metadata": {},
   "source": [
    "<h4>fuction to add keys<h4>"
   ]
  },
  {
   "cell_type": "code",
   "execution_count": 4,
   "metadata": {},
   "outputs": [
    {
     "name": "stdout",
     "output_type": "stream",
     "text": [
      "dict_keys([])\n",
      "Enter Choice :  a\n",
      "Enter Choice :  a\n",
      "Enter Choice :  a\n",
      "Enter Choice :  a\n",
      "Enter Choice :  a\n",
      "Enter Choice :  a\n",
      "Enter Choice :  a\n"
     ]
    }
   ],
   "source": [
    "def keysMod(dictName):\n",
    "    key= dictName.keys()\n",
    "    print(key)\n",
    "    choice='a'\n",
    "    while choice!='n': \n",
    "     print(\"Enter Choice : \",choice)\n",
    "     key=input(\"Enter Keys: \")\n",
    "     value=input(\"Enter Values: \")\n",
    "     dictName[key]=value\n",
    "\n",
    "# xen={'Name':'xenium',\n",
    "#      'address':'bkt',\n",
    "#      'age':19}\n",
    "\n",
    "xen={}\n",
    "\n",
    "\n",
    "keysMod(xen)\n",
    "print(xen)\n",
    "\n",
    "\n",
    "\n"
   ]
  },
  {
   "cell_type": "code",
   "execution_count": 31,
   "metadata": {},
   "outputs": [
    {
     "name": "stdout",
     "output_type": "stream",
     "text": [
      "<class 'dict'>\n",
      "Employee Data:\n",
      "{'Name': 'Manisha', 'Age': 24, 'Salary': 45000}\n",
      "{'Name': 'Anisha', 'Age': 20, 'Salary': 45000}\n"
     ]
    }
   ],
   "source": [
    "Employee ={'Name':'Manisha','Age':24,\"Salary\":45000}\n",
    "print(type(Employee))\n",
    "\n",
    "print(\"Employee Data:\")\n",
    "print(Employee)\n",
    "Employee[\"Name\"]=input(\"Name: \")\n",
    "Employee[\"Age\"]=int(input(\"Age: \"))\n",
    "print(Employee)\n"
   ]
  },
  {
   "cell_type": "markdown",
   "metadata": {},
   "source": [
    "<h4>popitem()</h4> this method removes the last inserted item"
   ]
  },
  {
   "cell_type": "code",
   "execution_count": 2,
   "metadata": {},
   "outputs": [
    {
     "name": "stdout",
     "output_type": "stream",
     "text": [
      "{'model': 'hero', 'year': 1222}\n",
      "{'year': 1222}\n",
      "{}\n"
     ]
    }
   ],
   "source": [
    "myDict={\"model\":\"hero\",\"year\":1222}\n",
    "print(myDict)\n",
    "del myDict[\"model\"]\n",
    "print(myDict)\n",
    "myDict.clear()\n",
    "print(myDict)"
   ]
  },
  {
   "cell_type": "code",
   "execution_count": 3,
   "metadata": {},
   "outputs": [
    {
     "name": "stdout",
     "output_type": "stream",
     "text": [
      "{'model': 'hero', 'year': 1222}\n"
     ]
    }
   ],
   "source": [
    "#Copy\n",
    "\n",
    "myDict={\"model\":\"hero\",\"year\":1222}\n",
    "\n",
    "car=myDict.copy()\n",
    "print(car)\n"
   ]
  },
  {
   "cell_type": "markdown",
   "metadata": {},
   "source": [
    "Nested Dictionary"
   ]
  },
  {
   "cell_type": "code",
   "execution_count": 16,
   "metadata": {},
   "outputs": [
    {
     "name": "stdout",
     "output_type": "stream",
     "text": [
      "{'student1': {'name': 'Xen', 'Roll': 3333, 'Address': 'ktm'}, 'student2': {'name': 'Nex', 'Roll': 2203, 'Address': 'byasi'}, 'student3': {'name': 'HS', 'Roll': 1001, 'Address': 'bkt'}}\n",
      "Xen\n",
      "3333\n",
      "ktm\n",
      "\n",
      "Nex\n",
      "2203\n",
      "byasi\n",
      "\n",
      "HS\n",
      "1001\n",
      "bkt\n",
      "\n",
      "{'name': 'Xen', 'Roll': 3333, 'Address': 'ktm'}\n",
      "name-->Xen\n",
      "Roll-->3333\n",
      "Address-->ktm\n",
      "\n",
      "{'name': 'Nex', 'Roll': 2203, 'Address': 'byasi'}\n",
      "name-->Nex\n",
      "Roll-->2203\n",
      "Address-->byasi\n",
      "\n",
      "{'name': 'HS', 'Roll': 1001, 'Address': 'bkt'}\n",
      "name-->HS\n",
      "Roll-->1001\n",
      "Address-->bkt\n",
      "\n"
     ]
    }
   ],
   "source": [
    "students={\n",
    "    \"student1\":\n",
    "    {\n",
    "        \"name\":\"Xen\",\n",
    "        \"Roll\":3333,\n",
    "        \"Address\":\"ktm\",\n",
    "    },\n",
    "    \"student2\":\n",
    "    {\n",
    "        \"name\":\"Nex\",\n",
    "        \"Roll\":2203,\n",
    "        \"Address\":\"byasi\",\n",
    "    },\n",
    "    \"student3\":\n",
    "    {\n",
    "        \"name\":\"HS\",\n",
    "        \"Roll\":1001,\n",
    "        \"Address\":\"bkt\",\n",
    "    }\n",
    "}\n",
    "print(students)\n",
    "\n",
    "for i in students:\n",
    "    for j in students[i]:\n",
    "     print(students[i][j])\n",
    "    print()\n",
    "\n",
    "# for i,j in students.items():\n",
    "#    print(f'''{i}-->{j}''')\n",
    "\n",
    "# for i,j in students[\"student1\"].items():\n",
    "#    print(f\"{i}-->{j}\")\n",
    "\n",
    "for i in students:\n",
    "    print(students[i])\n",
    "    for x,y in students[i].items():\n",
    "     print(f\"{x}-->{y}\")\n",
    "    print()"
   ]
  },
  {
   "cell_type": "markdown",
   "metadata": {},
   "source": [
    "<h4>Dictionary Comprehension</h4>"
   ]
  },
  {
   "cell_type": "code",
   "execution_count": 19,
   "metadata": {},
   "outputs": [
    {
     "name": "stdout",
     "output_type": "stream",
     "text": [
      "{0: 0, 1: 2, 2: 4, 3: 6, 4: 8}\n",
      "{0: 0, 1: 2, 2: 4, 3: 6, 4: 8}\n"
     ]
    }
   ],
   "source": [
    "multiple={x:x*2 for x in range(5)}\n",
    "print(multiple)\n",
    "\n",
    "#Using for loop\n",
    "multiple1={}\n",
    "for x in range(5):\n",
    "    multiple1[x]=x*2\n",
    "print(multiple1)"
   ]
  }
 ],
 "metadata": {
  "kernelspec": {
   "display_name": "Python 3",
   "language": "python",
   "name": "python3"
  },
  "language_info": {
   "codemirror_mode": {
    "name": "ipython",
    "version": 3
   },
   "file_extension": ".py",
   "mimetype": "text/x-python",
   "name": "python",
   "nbconvert_exporter": "python",
   "pygments_lexer": "ipython3",
   "version": "3.12.4"
  }
 },
 "nbformat": 4,
 "nbformat_minor": 2
}
